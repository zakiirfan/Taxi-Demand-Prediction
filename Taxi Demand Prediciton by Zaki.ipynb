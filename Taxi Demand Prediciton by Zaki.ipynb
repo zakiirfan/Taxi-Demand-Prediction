{
 "cells": [
  {
   "cell_type": "markdown",
   "id": "80ec854b",
   "metadata": {},
   "source": [
    "# Background"
   ]
  },
  {
   "cell_type": "markdown",
   "id": "4b9908ca",
   "metadata": {},
   "source": [
    "Currently, the Yellow Taxi service is centered in Manhattan, because among other Boroughs, As of October 2021 Manhattan is the Borough with the highest population density and GDP. For GDP, Manhattan contributes 73.5% to New York City or it can be said that Manhattan is a business center, so it's not surprising that the Yellow Taxi service is \"only centered\" in the city of Manhattan."
   ]
  },
  {
   "cell_type": "markdown",
   "id": "bd58d1d8",
   "metadata": {},
   "source": [
    "Therefore, it is important for TLC that the Yellow Taxi service is evenly distributed to all Boroughs in New York City. With limited units, TLC must be able to optimize these units to respond to demand needs in order to avoid opportunity lost. "
   ]
  },
  {
   "cell_type": "markdown",
   "id": "b8c9814f",
   "metadata": {},
   "source": [
    "# Objective"
   ]
  },
  {
   "cell_type": "markdown",
   "id": "9bbad392",
   "metadata": {},
   "source": [
    "This project aims to create a model that can predict Yellow Taxi Demand in New York City."
   ]
  },
  {
   "cell_type": "markdown",
   "id": "0604acf3",
   "metadata": {},
   "source": [
    "# Problem Statement"
   ]
  },
  {
   "cell_type": "markdown",
   "id": "b894592e",
   "metadata": {},
   "source": [
    "Goal: Model able to predict Yellow Taxi demand\n",
    "\n",
    "Research Question: How to predict Yellow Taxi demand?\n",
    "Several regression models will be used to predict yellow taxi demand, the selected regression model is the model that has the lowest RMSE score."
   ]
  },
  {
   "cell_type": "markdown",
   "id": "806fecbb",
   "metadata": {},
   "source": [
    "# Methodology and Data"
   ]
  },
  {
   "cell_type": "markdown",
   "id": "d8cb388b",
   "metadata": {},
   "source": [
    "To be able to achieve the desired goal, the following things are carried out:\n",
    "1. Perform data cleaning of the dataset\n",
    "2. Explore data to understand problems and gain insight as a basis for providing recommendations for problem solutions\n",
    "3. Create a simple baseline model as a comparison to the results of other models\n",
    "4. Improve the baseline model by tuning parameter to see if there is an decrease in RMSE score.\n",
    "5. Choose the model with the lowest RMSE score and interpret it.\n",
    "6. Business Recommendations"
   ]
  },
  {
   "cell_type": "markdown",
   "id": "b34bae24",
   "metadata": {},
   "source": [
    "Dataset source : https://www.nyc.gov/site/tlc/about/tlc-trip-record-data.page"
   ]
  },
  {
   "cell_type": "markdown",
   "id": "4e2eee8f",
   "metadata": {},
   "source": [
    "# 1. Import Packages"
   ]
  },
  {
   "cell_type": "code",
   "execution_count": 1,
   "id": "ec57d0cb",
   "metadata": {
    "scrolled": true
   },
   "outputs": [
    {
     "name": "stdout",
     "output_type": "stream",
     "text": [
      "Requirement already satisfied: pyarrow in c:\\users\\azakf\\anaconda3\\lib\\site-packages (10.0.1)\n",
      "Requirement already satisfied: numpy>=1.16.6 in c:\\users\\azakf\\anaconda3\\lib\\site-packages (from pyarrow) (1.21.5)\n"
     ]
    }
   ],
   "source": [
    "!pip install pyarrow"
   ]
  },
  {
   "cell_type": "code",
   "execution_count": 2,
   "id": "e0e9ca3c",
   "metadata": {},
   "outputs": [],
   "source": [
    "import pandas as pd\n",
    "\n",
    "import numpy as np\n",
    "import seaborn as sns\n",
    "\n",
    "import matplotlib.pyplot as plt\n",
    "%matplotlib inline\n",
    "\n",
    "from sklearn.linear_model import LinearRegression\n",
    "from sklearn import tree\n",
    "from sklearn.ensemble import RandomForestRegressor\n",
    "from sklearn.tree import DecisionTreeRegressor\n",
    "from sklearn.metrics import r2_score\n",
    "from sklearn.metrics import mean_squared_error\n",
    "from sklearn.model_selection import train_test_split\n",
    "from sklearn.model_selection import GridSearchCV\n",
    "\n",
    "import datetime as dt\n",
    "import time\n",
    "from datetime import datetime, timedelta\n"
   ]
  },
  {
   "cell_type": "markdown",
   "id": "15ffe382",
   "metadata": {},
   "source": [
    "# 2. Loading Dataset "
   ]
  },
  {
   "cell_type": "code",
   "execution_count": 3,
   "id": "badf3dc6",
   "metadata": {
    "scrolled": true
   },
   "outputs": [
    {
     "data": {
      "text/html": [
       "<div>\n",
       "<style scoped>\n",
       "    .dataframe tbody tr th:only-of-type {\n",
       "        vertical-align: middle;\n",
       "    }\n",
       "\n",
       "    .dataframe tbody tr th {\n",
       "        vertical-align: top;\n",
       "    }\n",
       "\n",
       "    .dataframe thead th {\n",
       "        text-align: right;\n",
       "    }\n",
       "</style>\n",
       "<table border=\"1\" class=\"dataframe\">\n",
       "  <thead>\n",
       "    <tr style=\"text-align: right;\">\n",
       "      <th></th>\n",
       "      <th>VendorID</th>\n",
       "      <th>tpep_pickup_datetime</th>\n",
       "      <th>tpep_dropoff_datetime</th>\n",
       "      <th>passenger_count</th>\n",
       "      <th>trip_distance</th>\n",
       "      <th>RatecodeID</th>\n",
       "      <th>store_and_fwd_flag</th>\n",
       "      <th>PULocationID</th>\n",
       "      <th>DOLocationID</th>\n",
       "      <th>payment_type</th>\n",
       "      <th>...</th>\n",
       "      <th>extra</th>\n",
       "      <th>mta_tax</th>\n",
       "      <th>tip_amount</th>\n",
       "      <th>tolls_amount</th>\n",
       "      <th>improvement_surcharge</th>\n",
       "      <th>total_amount</th>\n",
       "      <th>congestion_surcharge</th>\n",
       "      <th>airport_fee</th>\n",
       "      <th>PUborough</th>\n",
       "      <th>DOborough</th>\n",
       "    </tr>\n",
       "  </thead>\n",
       "  <tbody>\n",
       "    <tr>\n",
       "      <th>0</th>\n",
       "      <td>1</td>\n",
       "      <td>2022-10-01 00:03:41</td>\n",
       "      <td>2022-10-01 00:18:39</td>\n",
       "      <td>1.0</td>\n",
       "      <td>1.70</td>\n",
       "      <td>1.0</td>\n",
       "      <td>N</td>\n",
       "      <td>249</td>\n",
       "      <td>107</td>\n",
       "      <td>1</td>\n",
       "      <td>...</td>\n",
       "      <td>3.0</td>\n",
       "      <td>0.5</td>\n",
       "      <td>2.65</td>\n",
       "      <td>0.0</td>\n",
       "      <td>0.3</td>\n",
       "      <td>15.95</td>\n",
       "      <td>2.5</td>\n",
       "      <td>0.0</td>\n",
       "      <td>Manhattan</td>\n",
       "      <td>Manhattan</td>\n",
       "    </tr>\n",
       "    <tr>\n",
       "      <th>1</th>\n",
       "      <td>1</td>\n",
       "      <td>2022-10-01 00:24:42</td>\n",
       "      <td>2022-10-01 00:29:02</td>\n",
       "      <td>1.0</td>\n",
       "      <td>0.90</td>\n",
       "      <td>1.0</td>\n",
       "      <td>N</td>\n",
       "      <td>249</td>\n",
       "      <td>107</td>\n",
       "      <td>1</td>\n",
       "      <td>...</td>\n",
       "      <td>3.0</td>\n",
       "      <td>0.5</td>\n",
       "      <td>2.20</td>\n",
       "      <td>0.0</td>\n",
       "      <td>0.3</td>\n",
       "      <td>11.00</td>\n",
       "      <td>2.5</td>\n",
       "      <td>0.0</td>\n",
       "      <td>Manhattan</td>\n",
       "      <td>Manhattan</td>\n",
       "    </tr>\n",
       "    <tr>\n",
       "      <th>2</th>\n",
       "      <td>2</td>\n",
       "      <td>2022-10-01 00:25:37</td>\n",
       "      <td>2022-10-01 00:38:22</td>\n",
       "      <td>1.0</td>\n",
       "      <td>1.73</td>\n",
       "      <td>1.0</td>\n",
       "      <td>N</td>\n",
       "      <td>249</td>\n",
       "      <td>107</td>\n",
       "      <td>1</td>\n",
       "      <td>...</td>\n",
       "      <td>0.5</td>\n",
       "      <td>0.5</td>\n",
       "      <td>2.00</td>\n",
       "      <td>0.0</td>\n",
       "      <td>0.3</td>\n",
       "      <td>15.30</td>\n",
       "      <td>2.5</td>\n",
       "      <td>0.0</td>\n",
       "      <td>Manhattan</td>\n",
       "      <td>Manhattan</td>\n",
       "    </tr>\n",
       "  </tbody>\n",
       "</table>\n",
       "<p>3 rows × 21 columns</p>\n",
       "</div>"
      ],
      "text/plain": [
       "   VendorID tpep_pickup_datetime tpep_dropoff_datetime  passenger_count  \\\n",
       "0         1  2022-10-01 00:03:41   2022-10-01 00:18:39              1.0   \n",
       "1         1  2022-10-01 00:24:42   2022-10-01 00:29:02              1.0   \n",
       "2         2  2022-10-01 00:25:37   2022-10-01 00:38:22              1.0   \n",
       "\n",
       "   trip_distance  RatecodeID store_and_fwd_flag  PULocationID  DOLocationID  \\\n",
       "0           1.70         1.0                  N           249           107   \n",
       "1           0.90         1.0                  N           249           107   \n",
       "2           1.73         1.0                  N           249           107   \n",
       "\n",
       "   payment_type  ...  extra  mta_tax  tip_amount  tolls_amount  \\\n",
       "0             1  ...    3.0      0.5        2.65           0.0   \n",
       "1             1  ...    3.0      0.5        2.20           0.0   \n",
       "2             1  ...    0.5      0.5        2.00           0.0   \n",
       "\n",
       "   improvement_surcharge  total_amount  congestion_surcharge  airport_fee  \\\n",
       "0                    0.3         15.95                   2.5          0.0   \n",
       "1                    0.3         11.00                   2.5          0.0   \n",
       "2                    0.3         15.30                   2.5          0.0   \n",
       "\n",
       "   PUborough  DOborough  \n",
       "0  Manhattan  Manhattan  \n",
       "1  Manhattan  Manhattan  \n",
       "2  Manhattan  Manhattan  \n",
       "\n",
       "[3 rows x 21 columns]"
      ]
     },
     "execution_count": 3,
     "metadata": {},
     "output_type": "execute_result"
    }
   ],
   "source": [
    "df_1 = pd.read_parquet('yellow_tripdata_2022-10.parquet',engine='pyarrow')\n",
    "df_2 = pd.read_excel('index PUborough.xlsx')\n",
    "df_3 = pd.read_excel('index DOborough.xlsx')\n",
    "df= pd.merge(df_1, df_2, on=\"PULocationID\")\n",
    "df= pd.merge(df, df_3, on=\"DOLocationID\")\n",
    "df.head(3)"
   ]
  },
  {
   "cell_type": "code",
   "execution_count": 4,
   "id": "b7a6d76f",
   "metadata": {
    "scrolled": false
   },
   "outputs": [
    {
     "name": "stdout",
     "output_type": "stream",
     "text": [
      "<class 'pandas.core.frame.DataFrame'>\n",
      "Int64Index: 3599400 entries, 0 to 3599399\n",
      "Data columns (total 21 columns):\n",
      " #   Column                 Dtype         \n",
      "---  ------                 -----         \n",
      " 0   VendorID               int64         \n",
      " 1   tpep_pickup_datetime   datetime64[ns]\n",
      " 2   tpep_dropoff_datetime  datetime64[ns]\n",
      " 3   passenger_count        float64       \n",
      " 4   trip_distance          float64       \n",
      " 5   RatecodeID             float64       \n",
      " 6   store_and_fwd_flag     object        \n",
      " 7   PULocationID           int64         \n",
      " 8   DOLocationID           int64         \n",
      " 9   payment_type           int64         \n",
      " 10  fare_amount            float64       \n",
      " 11  extra                  float64       \n",
      " 12  mta_tax                float64       \n",
      " 13  tip_amount             float64       \n",
      " 14  tolls_amount           float64       \n",
      " 15  improvement_surcharge  float64       \n",
      " 16  total_amount           float64       \n",
      " 17  congestion_surcharge   float64       \n",
      " 18  airport_fee            float64       \n",
      " 19  PUborough              object        \n",
      " 20  DOborough              object        \n",
      "dtypes: datetime64[ns](2), float64(12), int64(4), object(3)\n",
      "memory usage: 604.1+ MB\n"
     ]
    }
   ],
   "source": [
    "df.info()"
   ]
  },
  {
   "cell_type": "code",
   "execution_count": 5,
   "id": "ca78910d",
   "metadata": {
    "scrolled": false
   },
   "outputs": [
    {
     "data": {
      "text/html": [
       "<div>\n",
       "<style scoped>\n",
       "    .dataframe tbody tr th:only-of-type {\n",
       "        vertical-align: middle;\n",
       "    }\n",
       "\n",
       "    .dataframe tbody tr th {\n",
       "        vertical-align: top;\n",
       "    }\n",
       "\n",
       "    .dataframe thead th {\n",
       "        text-align: right;\n",
       "    }\n",
       "</style>\n",
       "<table border=\"1\" class=\"dataframe\">\n",
       "  <thead>\n",
       "    <tr style=\"text-align: right;\">\n",
       "      <th></th>\n",
       "      <th>count</th>\n",
       "      <th>mean</th>\n",
       "      <th>std</th>\n",
       "      <th>min</th>\n",
       "      <th>25%</th>\n",
       "      <th>50%</th>\n",
       "      <th>75%</th>\n",
       "      <th>max</th>\n",
       "    </tr>\n",
       "  </thead>\n",
       "  <tbody>\n",
       "    <tr>\n",
       "      <th>VendorID</th>\n",
       "      <td>3599400.0</td>\n",
       "      <td>1.711521</td>\n",
       "      <td>0.453055</td>\n",
       "      <td>1.00</td>\n",
       "      <td>1.00</td>\n",
       "      <td>2.0</td>\n",
       "      <td>2.00</td>\n",
       "      <td>2.00</td>\n",
       "    </tr>\n",
       "    <tr>\n",
       "      <th>passenger_count</th>\n",
       "      <td>3473052.0</td>\n",
       "      <td>1.384962</td>\n",
       "      <td>0.932044</td>\n",
       "      <td>0.00</td>\n",
       "      <td>1.00</td>\n",
       "      <td>1.0</td>\n",
       "      <td>1.00</td>\n",
       "      <td>9.00</td>\n",
       "    </tr>\n",
       "    <tr>\n",
       "      <th>trip_distance</th>\n",
       "      <td>3599400.0</td>\n",
       "      <td>6.104752</td>\n",
       "      <td>643.379863</td>\n",
       "      <td>0.00</td>\n",
       "      <td>1.11</td>\n",
       "      <td>1.9</td>\n",
       "      <td>3.59</td>\n",
       "      <td>389678.46</td>\n",
       "    </tr>\n",
       "    <tr>\n",
       "      <th>RatecodeID</th>\n",
       "      <td>3473052.0</td>\n",
       "      <td>1.410415</td>\n",
       "      <td>5.697075</td>\n",
       "      <td>1.00</td>\n",
       "      <td>1.00</td>\n",
       "      <td>1.0</td>\n",
       "      <td>1.00</td>\n",
       "      <td>99.00</td>\n",
       "    </tr>\n",
       "    <tr>\n",
       "      <th>PULocationID</th>\n",
       "      <td>3599400.0</td>\n",
       "      <td>164.054895</td>\n",
       "      <td>64.564597</td>\n",
       "      <td>1.00</td>\n",
       "      <td>132.00</td>\n",
       "      <td>161.0</td>\n",
       "      <td>233.00</td>\n",
       "      <td>263.00</td>\n",
       "    </tr>\n",
       "    <tr>\n",
       "      <th>DOLocationID</th>\n",
       "      <td>3599400.0</td>\n",
       "      <td>161.952246</td>\n",
       "      <td>69.745949</td>\n",
       "      <td>1.00</td>\n",
       "      <td>113.00</td>\n",
       "      <td>162.0</td>\n",
       "      <td>234.00</td>\n",
       "      <td>263.00</td>\n",
       "    </tr>\n",
       "    <tr>\n",
       "      <th>payment_type</th>\n",
       "      <td>3599400.0</td>\n",
       "      <td>1.188614</td>\n",
       "      <td>0.538203</td>\n",
       "      <td>0.00</td>\n",
       "      <td>1.00</td>\n",
       "      <td>1.0</td>\n",
       "      <td>1.00</td>\n",
       "      <td>4.00</td>\n",
       "    </tr>\n",
       "    <tr>\n",
       "      <th>fare_amount</th>\n",
       "      <td>3599400.0</td>\n",
       "      <td>14.859324</td>\n",
       "      <td>13.215578</td>\n",
       "      <td>-797.00</td>\n",
       "      <td>7.00</td>\n",
       "      <td>10.5</td>\n",
       "      <td>17.00</td>\n",
       "      <td>950.00</td>\n",
       "    </tr>\n",
       "    <tr>\n",
       "      <th>extra</th>\n",
       "      <td>3599400.0</td>\n",
       "      <td>0.998132</td>\n",
       "      <td>1.246748</td>\n",
       "      <td>-22.18</td>\n",
       "      <td>0.00</td>\n",
       "      <td>0.5</td>\n",
       "      <td>2.50</td>\n",
       "      <td>10.80</td>\n",
       "    </tr>\n",
       "    <tr>\n",
       "      <th>mta_tax</th>\n",
       "      <td>3599400.0</td>\n",
       "      <td>0.488600</td>\n",
       "      <td>0.097461</td>\n",
       "      <td>-0.50</td>\n",
       "      <td>0.50</td>\n",
       "      <td>0.5</td>\n",
       "      <td>0.50</td>\n",
       "      <td>25.48</td>\n",
       "    </tr>\n",
       "    <tr>\n",
       "      <th>tip_amount</th>\n",
       "      <td>3599400.0</td>\n",
       "      <td>2.813695</td>\n",
       "      <td>3.191766</td>\n",
       "      <td>-100.01</td>\n",
       "      <td>1.00</td>\n",
       "      <td>2.2</td>\n",
       "      <td>3.46</td>\n",
       "      <td>500.00</td>\n",
       "    </tr>\n",
       "    <tr>\n",
       "      <th>tolls_amount</th>\n",
       "      <td>3599400.0</td>\n",
       "      <td>0.549214</td>\n",
       "      <td>2.012955</td>\n",
       "      <td>-39.75</td>\n",
       "      <td>0.00</td>\n",
       "      <td>0.0</td>\n",
       "      <td>0.00</td>\n",
       "      <td>516.75</td>\n",
       "    </tr>\n",
       "    <tr>\n",
       "      <th>improvement_surcharge</th>\n",
       "      <td>3599400.0</td>\n",
       "      <td>0.295675</td>\n",
       "      <td>0.050382</td>\n",
       "      <td>-0.30</td>\n",
       "      <td>0.30</td>\n",
       "      <td>0.3</td>\n",
       "      <td>0.30</td>\n",
       "      <td>0.30</td>\n",
       "    </tr>\n",
       "    <tr>\n",
       "      <th>total_amount</th>\n",
       "      <td>3599400.0</td>\n",
       "      <td>21.745200</td>\n",
       "      <td>16.893772</td>\n",
       "      <td>-800.30</td>\n",
       "      <td>12.36</td>\n",
       "      <td>16.3</td>\n",
       "      <td>23.75</td>\n",
       "      <td>950.30</td>\n",
       "    </tr>\n",
       "    <tr>\n",
       "      <th>congestion_surcharge</th>\n",
       "      <td>3473052.0</td>\n",
       "      <td>2.297931</td>\n",
       "      <td>0.733659</td>\n",
       "      <td>-2.50</td>\n",
       "      <td>2.50</td>\n",
       "      <td>2.5</td>\n",
       "      <td>2.50</td>\n",
       "      <td>2.50</td>\n",
       "    </tr>\n",
       "    <tr>\n",
       "      <th>airport_fee</th>\n",
       "      <td>3473052.0</td>\n",
       "      <td>0.097696</td>\n",
       "      <td>0.339410</td>\n",
       "      <td>-1.25</td>\n",
       "      <td>0.00</td>\n",
       "      <td>0.0</td>\n",
       "      <td>0.00</td>\n",
       "      <td>1.25</td>\n",
       "    </tr>\n",
       "  </tbody>\n",
       "</table>\n",
       "</div>"
      ],
      "text/plain": [
       "                           count        mean         std     min     25%  \\\n",
       "VendorID               3599400.0    1.711521    0.453055    1.00    1.00   \n",
       "passenger_count        3473052.0    1.384962    0.932044    0.00    1.00   \n",
       "trip_distance          3599400.0    6.104752  643.379863    0.00    1.11   \n",
       "RatecodeID             3473052.0    1.410415    5.697075    1.00    1.00   \n",
       "PULocationID           3599400.0  164.054895   64.564597    1.00  132.00   \n",
       "DOLocationID           3599400.0  161.952246   69.745949    1.00  113.00   \n",
       "payment_type           3599400.0    1.188614    0.538203    0.00    1.00   \n",
       "fare_amount            3599400.0   14.859324   13.215578 -797.00    7.00   \n",
       "extra                  3599400.0    0.998132    1.246748  -22.18    0.00   \n",
       "mta_tax                3599400.0    0.488600    0.097461   -0.50    0.50   \n",
       "tip_amount             3599400.0    2.813695    3.191766 -100.01    1.00   \n",
       "tolls_amount           3599400.0    0.549214    2.012955  -39.75    0.00   \n",
       "improvement_surcharge  3599400.0    0.295675    0.050382   -0.30    0.30   \n",
       "total_amount           3599400.0   21.745200   16.893772 -800.30   12.36   \n",
       "congestion_surcharge   3473052.0    2.297931    0.733659   -2.50    2.50   \n",
       "airport_fee            3473052.0    0.097696    0.339410   -1.25    0.00   \n",
       "\n",
       "                         50%     75%        max  \n",
       "VendorID                 2.0    2.00       2.00  \n",
       "passenger_count          1.0    1.00       9.00  \n",
       "trip_distance            1.9    3.59  389678.46  \n",
       "RatecodeID               1.0    1.00      99.00  \n",
       "PULocationID           161.0  233.00     263.00  \n",
       "DOLocationID           162.0  234.00     263.00  \n",
       "payment_type             1.0    1.00       4.00  \n",
       "fare_amount             10.5   17.00     950.00  \n",
       "extra                    0.5    2.50      10.80  \n",
       "mta_tax                  0.5    0.50      25.48  \n",
       "tip_amount               2.2    3.46     500.00  \n",
       "tolls_amount             0.0    0.00     516.75  \n",
       "improvement_surcharge    0.3    0.30       0.30  \n",
       "total_amount            16.3   23.75     950.30  \n",
       "congestion_surcharge     2.5    2.50       2.50  \n",
       "airport_fee              0.0    0.00       1.25  "
      ]
     },
     "execution_count": 5,
     "metadata": {},
     "output_type": "execute_result"
    }
   ],
   "source": [
    "df.describe().T"
   ]
  },
  {
   "cell_type": "code",
   "execution_count": 6,
   "id": "4f85915c",
   "metadata": {},
   "outputs": [
    {
     "data": {
      "text/html": [
       "<div>\n",
       "<style scoped>\n",
       "    .dataframe tbody tr th:only-of-type {\n",
       "        vertical-align: middle;\n",
       "    }\n",
       "\n",
       "    .dataframe tbody tr th {\n",
       "        vertical-align: top;\n",
       "    }\n",
       "\n",
       "    .dataframe thead th {\n",
       "        text-align: right;\n",
       "    }\n",
       "</style>\n",
       "<table border=\"1\" class=\"dataframe\">\n",
       "  <thead>\n",
       "    <tr style=\"text-align: right;\">\n",
       "      <th></th>\n",
       "      <th>VendorID</th>\n",
       "      <th>tpep_pickup_datetime</th>\n",
       "      <th>tpep_dropoff_datetime</th>\n",
       "      <th>passenger_count</th>\n",
       "      <th>trip_distance</th>\n",
       "      <th>RatecodeID</th>\n",
       "      <th>store_and_fwd_flag</th>\n",
       "      <th>PULocationID</th>\n",
       "      <th>DOLocationID</th>\n",
       "      <th>payment_type</th>\n",
       "      <th>...</th>\n",
       "      <th>mta_tax</th>\n",
       "      <th>tip_amount</th>\n",
       "      <th>tolls_amount</th>\n",
       "      <th>improvement_surcharge</th>\n",
       "      <th>total_amount</th>\n",
       "      <th>congestion_surcharge</th>\n",
       "      <th>airport_fee</th>\n",
       "      <th>PUborough</th>\n",
       "      <th>DOborough</th>\n",
       "      <th>trip_time_minutes</th>\n",
       "    </tr>\n",
       "  </thead>\n",
       "  <tbody>\n",
       "    <tr>\n",
       "      <th>0</th>\n",
       "      <td>1</td>\n",
       "      <td>2022-10-01 00:03:41</td>\n",
       "      <td>2022-10-01 00:18:39</td>\n",
       "      <td>1.0</td>\n",
       "      <td>1.70</td>\n",
       "      <td>1.0</td>\n",
       "      <td>N</td>\n",
       "      <td>249</td>\n",
       "      <td>107</td>\n",
       "      <td>1</td>\n",
       "      <td>...</td>\n",
       "      <td>0.5</td>\n",
       "      <td>2.65</td>\n",
       "      <td>0.0</td>\n",
       "      <td>0.3</td>\n",
       "      <td>15.95</td>\n",
       "      <td>2.5</td>\n",
       "      <td>0.0</td>\n",
       "      <td>Manhattan</td>\n",
       "      <td>Manhattan</td>\n",
       "      <td>15</td>\n",
       "    </tr>\n",
       "    <tr>\n",
       "      <th>1</th>\n",
       "      <td>1</td>\n",
       "      <td>2022-10-01 00:24:42</td>\n",
       "      <td>2022-10-01 00:29:02</td>\n",
       "      <td>1.0</td>\n",
       "      <td>0.90</td>\n",
       "      <td>1.0</td>\n",
       "      <td>N</td>\n",
       "      <td>249</td>\n",
       "      <td>107</td>\n",
       "      <td>1</td>\n",
       "      <td>...</td>\n",
       "      <td>0.5</td>\n",
       "      <td>2.20</td>\n",
       "      <td>0.0</td>\n",
       "      <td>0.3</td>\n",
       "      <td>11.00</td>\n",
       "      <td>2.5</td>\n",
       "      <td>0.0</td>\n",
       "      <td>Manhattan</td>\n",
       "      <td>Manhattan</td>\n",
       "      <td>5</td>\n",
       "    </tr>\n",
       "    <tr>\n",
       "      <th>2</th>\n",
       "      <td>2</td>\n",
       "      <td>2022-10-01 00:25:37</td>\n",
       "      <td>2022-10-01 00:38:22</td>\n",
       "      <td>1.0</td>\n",
       "      <td>1.73</td>\n",
       "      <td>1.0</td>\n",
       "      <td>N</td>\n",
       "      <td>249</td>\n",
       "      <td>107</td>\n",
       "      <td>1</td>\n",
       "      <td>...</td>\n",
       "      <td>0.5</td>\n",
       "      <td>2.00</td>\n",
       "      <td>0.0</td>\n",
       "      <td>0.3</td>\n",
       "      <td>15.30</td>\n",
       "      <td>2.5</td>\n",
       "      <td>0.0</td>\n",
       "      <td>Manhattan</td>\n",
       "      <td>Manhattan</td>\n",
       "      <td>13</td>\n",
       "    </tr>\n",
       "  </tbody>\n",
       "</table>\n",
       "<p>3 rows × 22 columns</p>\n",
       "</div>"
      ],
      "text/plain": [
       "   VendorID tpep_pickup_datetime tpep_dropoff_datetime  passenger_count  \\\n",
       "0         1  2022-10-01 00:03:41   2022-10-01 00:18:39              1.0   \n",
       "1         1  2022-10-01 00:24:42   2022-10-01 00:29:02              1.0   \n",
       "2         2  2022-10-01 00:25:37   2022-10-01 00:38:22              1.0   \n",
       "\n",
       "   trip_distance  RatecodeID store_and_fwd_flag  PULocationID  DOLocationID  \\\n",
       "0           1.70         1.0                  N           249           107   \n",
       "1           0.90         1.0                  N           249           107   \n",
       "2           1.73         1.0                  N           249           107   \n",
       "\n",
       "   payment_type  ...  mta_tax  tip_amount  tolls_amount  \\\n",
       "0             1  ...      0.5        2.65           0.0   \n",
       "1             1  ...      0.5        2.20           0.0   \n",
       "2             1  ...      0.5        2.00           0.0   \n",
       "\n",
       "   improvement_surcharge  total_amount  congestion_surcharge  airport_fee  \\\n",
       "0                    0.3         15.95                   2.5          0.0   \n",
       "1                    0.3         11.00                   2.5          0.0   \n",
       "2                    0.3         15.30                   2.5          0.0   \n",
       "\n",
       "   PUborough  DOborough trip_time_minutes  \n",
       "0  Manhattan  Manhattan                15  \n",
       "1  Manhattan  Manhattan                 5  \n",
       "2  Manhattan  Manhattan                13  \n",
       "\n",
       "[3 rows x 22 columns]"
      ]
     },
     "execution_count": 6,
     "metadata": {},
     "output_type": "execute_result"
    }
   ],
   "source": [
    "df['trip_time_minutes'] = abs(df['tpep_dropoff_datetime'].dt.minute - df['tpep_pickup_datetime'].dt.minute)\n",
    "df.head(3)"
   ]
  },
  {
   "cell_type": "code",
   "execution_count": 7,
   "id": "10aa98d3",
   "metadata": {},
   "outputs": [
    {
     "data": {
      "text/plain": [
       "(3599400, 22)"
      ]
     },
     "execution_count": 7,
     "metadata": {},
     "output_type": "execute_result"
    }
   ],
   "source": [
    "df.shape"
   ]
  },
  {
   "cell_type": "markdown",
   "id": "ecc93860",
   "metadata": {},
   "source": [
    "# 3. Data Cleansing"
   ]
  },
  {
   "cell_type": "markdown",
   "id": "99a18085",
   "metadata": {},
   "source": [
    "## 3.1 Missing Value Handling"
   ]
  },
  {
   "cell_type": "code",
   "execution_count": 8,
   "id": "fb4ebee5",
   "metadata": {
    "scrolled": false
   },
   "outputs": [
    {
     "data": {
      "text/plain": [
       "passenger_count          3.510252\n",
       "RatecodeID               3.510252\n",
       "store_and_fwd_flag       3.510252\n",
       "airport_fee              3.510252\n",
       "congestion_surcharge     3.510252\n",
       "VendorID                 0.000000\n",
       "tip_amount               0.000000\n",
       "DOborough                0.000000\n",
       "PUborough                0.000000\n",
       "total_amount             0.000000\n",
       "improvement_surcharge    0.000000\n",
       "tolls_amount             0.000000\n",
       "extra                    0.000000\n",
       "mta_tax                  0.000000\n",
       "tpep_pickup_datetime     0.000000\n",
       "fare_amount              0.000000\n",
       "payment_type             0.000000\n",
       "DOLocationID             0.000000\n",
       "PULocationID             0.000000\n",
       "trip_distance            0.000000\n",
       "tpep_dropoff_datetime    0.000000\n",
       "trip_time_minutes        0.000000\n",
       "dtype: float64"
      ]
     },
     "execution_count": 8,
     "metadata": {},
     "output_type": "execute_result"
    }
   ],
   "source": [
    "# Missing Value Check\n",
    "def missing_value_check (df) :\n",
    "    null_number = (df.isnull().sum()/len(df))*100\n",
    "    return null_number.sort_values(ascending = False)\n",
    "missing_value_check(df)"
   ]
  },
  {
   "cell_type": "code",
   "execution_count": 9,
   "id": "016073bf",
   "metadata": {
    "scrolled": false
   },
   "outputs": [
    {
     "data": {
      "text/plain": [
       "VendorID                 0\n",
       "tpep_pickup_datetime     0\n",
       "tpep_dropoff_datetime    0\n",
       "passenger_count          0\n",
       "trip_distance            0\n",
       "RatecodeID               0\n",
       "store_and_fwd_flag       0\n",
       "PULocationID             0\n",
       "DOLocationID             0\n",
       "payment_type             0\n",
       "fare_amount              0\n",
       "extra                    0\n",
       "mta_tax                  0\n",
       "tip_amount               0\n",
       "tolls_amount             0\n",
       "improvement_surcharge    0\n",
       "total_amount             0\n",
       "congestion_surcharge     0\n",
       "airport_fee              0\n",
       "PUborough                0\n",
       "DOborough                0\n",
       "trip_time_minutes        0\n",
       "dtype: int64"
      ]
     },
     "execution_count": 9,
     "metadata": {},
     "output_type": "execute_result"
    }
   ],
   "source": [
    "# Drop missing value:\n",
    "df = df.dropna()\n",
    "df.isna().sum()"
   ]
  },
  {
   "cell_type": "markdown",
   "id": "ba87ffaf",
   "metadata": {},
   "source": [
    "There are no more missing value on dataset"
   ]
  },
  {
   "cell_type": "markdown",
   "id": "cfc00c0e",
   "metadata": {},
   "source": [
    "## 3.2 Duplicated Value Handling"
   ]
  },
  {
   "cell_type": "code",
   "execution_count": 10,
   "id": "2f441443",
   "metadata": {},
   "outputs": [
    {
     "data": {
      "text/plain": [
       "1"
      ]
     },
     "execution_count": 10,
     "metadata": {},
     "output_type": "execute_result"
    }
   ],
   "source": [
    "# Duplicated Value Check\n",
    "df.duplicated().sum()"
   ]
  },
  {
   "cell_type": "code",
   "execution_count": 11,
   "id": "485b0a4b",
   "metadata": {},
   "outputs": [
    {
     "data": {
      "text/plain": [
       "0"
      ]
     },
     "execution_count": 11,
     "metadata": {},
     "output_type": "execute_result"
    }
   ],
   "source": [
    "df = df.drop_duplicates()\n",
    "df.duplicated().sum()"
   ]
  },
  {
   "cell_type": "markdown",
   "id": "0d029d6f",
   "metadata": {},
   "source": [
    "There are no more duplicated value on dataset"
   ]
  },
  {
   "cell_type": "markdown",
   "id": "686d8f81",
   "metadata": {},
   "source": [
    "## 3.3 Abnormal Data Handling"
   ]
  },
  {
   "cell_type": "code",
   "execution_count": 12,
   "id": "82ea2477",
   "metadata": {},
   "outputs": [],
   "source": [
    "# Drop trip duration 0 minutes, because trip duration > 0 minutes\n",
    "df.drop(df[(df['trip_time_minutes'] == 0)].index, inplace=True)\n",
    "# Drop data other than October\n",
    "df.drop(df[(df['tpep_pickup_datetime'].dt.month != 10)].index, inplace=True)\n",
    "# Drop data other than 2022\n",
    "df.drop(df[(df['tpep_pickup_datetime'].dt.year != 2022)].index, inplace=True)\n",
    "# Drop data trip distance = 0 miles, because trip distance > 0 miles\n",
    "df.drop(df[(df['trip_distance'] == 0)].index, inplace=True)"
   ]
  },
  {
   "cell_type": "code",
   "execution_count": 13,
   "id": "25d6e123",
   "metadata": {},
   "outputs": [
    {
     "data": {
      "text/plain": [
       "(3416987, 22)"
      ]
     },
     "execution_count": 13,
     "metadata": {},
     "output_type": "execute_result"
    }
   ],
   "source": [
    "df.shape"
   ]
  },
  {
   "cell_type": "code",
   "execution_count": 14,
   "id": "23cbe783",
   "metadata": {},
   "outputs": [],
   "source": [
    "# Abnormal Value Imputation\n",
    "df.loc[df[\"passenger_count\"] == 0, \"passenger_count\"] = df['passenger_count'].median()\n",
    "df.loc[df[\"payment_type\"] == 0, \"payment_type\"] = df['payment_type'].median()\n",
    "df.loc[df[\"fare_amount\"] <= 0, \"fare_amount\"] = df['fare_amount'].mean()\n",
    "df.loc[df[\"extra\"] < 0, \"extra\"] = df['extra'].mean()\n",
    "df.loc[df[\"mta_tax\"] < 0, \"mta_tax\"] = df['mta_tax'].mean()\n",
    "df.loc[df[\"tip_amount\"] < 0, \"tip_amount\"] = df['tip_amount'].mean()\n",
    "df.loc[df[\"tolls_amount\"] < 0, \"tolls_amount\"] = df['tolls_amount'].mean()\n",
    "df.loc[df[\"improvement_surcharge\"] < 0, \"improvement_surcharge\"] = df['improvement_surcharge'].mean()\n",
    "df.loc[df[\"total_amount\"] <= 0, \"total_amount\"] = df['total_amount'].mean()\n",
    "df.loc[df[\"congestion_surcharge\"] < 0, \"congestion_surcharge\"] = df['congestion_surcharge'].mean()\n",
    "df.loc[df[\"airport_fee\"] < 0, \"airport_fee\"] = df['airport_fee'].mean()\n",
    "df.loc[df[\"RatecodeID\"] == 99, \"RatecodeID\"] = df['RatecodeID'].median()"
   ]
  },
  {
   "cell_type": "markdown",
   "id": "0393ed1d",
   "metadata": {},
   "source": [
    "# 4. Exploratory Data Analysis"
   ]
  },
  {
   "cell_type": "markdown",
   "id": "338ef799",
   "metadata": {},
   "source": [
    "## 4.1 Top Pick up Borough"
   ]
  },
  {
   "cell_type": "code",
   "execution_count": 15,
   "id": "7900db0d",
   "metadata": {
    "scrolled": false
   },
   "outputs": [
    {
     "name": "stdout",
     "output_type": "stream",
     "text": [
      "Manhattan        90.519338\n",
      "Queens            8.849756\n",
      "Brooklyn          0.539101\n",
      "Bronx             0.084402\n",
      "Staten Island     0.005180\n",
      "EWR               0.002224\n",
      "Name: PUborough, dtype: float64\n"
     ]
    },
    {
     "data": {
      "image/png": "[encoded data removed]",
      "text/plain": [
       "<Figure size 576x288 with 1 Axes>"
      ]
     },
     "metadata": {
      "needs_background": "light"
     },
     "output_type": "display_data"
    }
   ],
   "source": [
    "plt.figure(figsize=(8,4))\n",
    "sns.countplot(x = 'PUborough',\n",
    "              data = df,\n",
    "              order = df['PUborough'].value_counts().index)\n",
    "plt.tight_layout()\n",
    "print(df['PUborough'].value_counts() / df['PUborough'].count() * 100)"
   ]
  },
  {
   "cell_type": "markdown",
   "id": "d4a9df35",
   "metadata": {},
   "source": [
    "Manhattan dominates taxi pick ups by 90.5%"
   ]
  },
  {
   "cell_type": "markdown",
   "id": "7308a211",
   "metadata": {},
   "source": [
    "## 4.2 Top Drop Off Borough"
   ]
  },
  {
   "cell_type": "code",
   "execution_count": 16,
   "id": "f2cf662f",
   "metadata": {
    "scrolled": false
   },
   "outputs": [
    {
     "name": "stdout",
     "output_type": "stream",
     "text": [
      "Manhattan        89.932739\n",
      "Queens            5.400167\n",
      "Brooklyn          3.841220\n",
      "Bronx             0.524761\n",
      "EWR               0.279193\n",
      "Staten Island     0.021920\n",
      "Name: DOborough, dtype: float64\n"
     ]
    },
    {
     "data": {
      "image/png": "[encoded data removed]",
      "text/plain": [
       "<Figure size 576x288 with 1 Axes>"
      ]
     },
     "metadata": {
      "needs_background": "light"
     },
     "output_type": "display_data"
    }
   ],
   "source": [
    "plt.figure(figsize=(8,4))\n",
    "sns.countplot(x = 'DOborough',\n",
    "              data = df,\n",
    "              order = df['DOborough'].value_counts().index)\n",
    "plt.tight_layout()\n",
    "print(df['DOborough'].value_counts() / df['DOborough'].count() * 100)"
   ]
  },
  {
   "cell_type": "markdown",
   "id": "5060a62a",
   "metadata": {},
   "source": [
    "Manhattan dominates the taxi drop off at 89.9%"
   ]
  },
  {
   "cell_type": "markdown",
   "id": "9767a020",
   "metadata": {},
   "source": [
    "## 4.3 Trip Summary"
   ]
  },
  {
   "cell_type": "code",
   "execution_count": 17,
   "id": "7e386ec3",
   "metadata": {
    "scrolled": false
   },
   "outputs": [
    {
     "data": {
      "text/html": [
       "<div>\n",
       "<style scoped>\n",
       "    .dataframe tbody tr th:only-of-type {\n",
       "        vertical-align: middle;\n",
       "    }\n",
       "\n",
       "    .dataframe tbody tr th {\n",
       "        vertical-align: top;\n",
       "    }\n",
       "\n",
       "    .dataframe thead th {\n",
       "        text-align: right;\n",
       "    }\n",
       "</style>\n",
       "<table border=\"1\" class=\"dataframe\">\n",
       "  <thead>\n",
       "    <tr style=\"text-align: right;\">\n",
       "      <th></th>\n",
       "      <th></th>\n",
       "      <th>passenger_count</th>\n",
       "      <th>trip_distance</th>\n",
       "      <th>total_amount</th>\n",
       "      <th>trip_time_minutes</th>\n",
       "      <th>RatecodeID</th>\n",
       "    </tr>\n",
       "    <tr>\n",
       "      <th>PUborough</th>\n",
       "      <th>DOborough</th>\n",
       "      <th></th>\n",
       "      <th></th>\n",
       "      <th></th>\n",
       "      <th></th>\n",
       "      <th></th>\n",
       "    </tr>\n",
       "  </thead>\n",
       "  <tbody>\n",
       "    <tr>\n",
       "      <th>Bronx</th>\n",
       "      <th>EWR</th>\n",
       "      <td>1.500000</td>\n",
       "      <td>25.165000</td>\n",
       "      <td>191.325000</td>\n",
       "      <td>10.500000</td>\n",
       "      <td>2</td>\n",
       "    </tr>\n",
       "    <tr>\n",
       "      <th>Queens</th>\n",
       "      <th>EWR</th>\n",
       "      <td>1.449275</td>\n",
       "      <td>33.595072</td>\n",
       "      <td>154.922812</td>\n",
       "      <td>16.321739</td>\n",
       "      <td>345</td>\n",
       "    </tr>\n",
       "    <tr>\n",
       "      <th rowspan=\"3\" valign=\"top\">EWR</th>\n",
       "      <th>Queens</th>\n",
       "      <td>1.000000</td>\n",
       "      <td>46.055000</td>\n",
       "      <td>107.325000</td>\n",
       "      <td>25.000000</td>\n",
       "      <td>2</td>\n",
       "    </tr>\n",
       "    <tr>\n",
       "      <th>Brooklyn</th>\n",
       "      <td>1.000000</td>\n",
       "      <td>31.270000</td>\n",
       "      <td>105.600000</td>\n",
       "      <td>1.000000</td>\n",
       "      <td>1</td>\n",
       "    </tr>\n",
       "    <tr>\n",
       "      <th>Staten Island</th>\n",
       "      <td>1.000000</td>\n",
       "      <td>23.740000</td>\n",
       "      <td>103.860000</td>\n",
       "      <td>2.000000</td>\n",
       "      <td>1</td>\n",
       "    </tr>\n",
       "    <tr>\n",
       "      <th>Brooklyn</th>\n",
       "      <th>EWR</th>\n",
       "      <td>1.339623</td>\n",
       "      <td>18.160377</td>\n",
       "      <td>101.006415</td>\n",
       "      <td>20.773585</td>\n",
       "      <td>53</td>\n",
       "    </tr>\n",
       "    <tr>\n",
       "      <th>Manhattan</th>\n",
       "      <th>EWR</th>\n",
       "      <td>1.620853</td>\n",
       "      <td>17.541237</td>\n",
       "      <td>100.296029</td>\n",
       "      <td>24.371211</td>\n",
       "      <td>9073</td>\n",
       "    </tr>\n",
       "    <tr>\n",
       "      <th>Queens</th>\n",
       "      <th>Staten Island</th>\n",
       "      <td>1.401813</td>\n",
       "      <td>26.974048</td>\n",
       "      <td>91.277455</td>\n",
       "      <td>19.193353</td>\n",
       "      <td>331</td>\n",
       "    </tr>\n",
       "    <tr>\n",
       "      <th>EWR</th>\n",
       "      <th>EWR</th>\n",
       "      <td>1.734375</td>\n",
       "      <td>2.983437</td>\n",
       "      <td>90.413400</td>\n",
       "      <td>4.671875</td>\n",
       "      <td>64</td>\n",
       "    </tr>\n",
       "    <tr>\n",
       "      <th>Staten Island</th>\n",
       "      <th>EWR</th>\n",
       "      <td>2.000000</td>\n",
       "      <td>14.526667</td>\n",
       "      <td>87.183333</td>\n",
       "      <td>28.000000</td>\n",
       "      <td>3</td>\n",
       "    </tr>\n",
       "    <tr>\n",
       "      <th>EWR</th>\n",
       "      <th>Manhattan</th>\n",
       "      <td>1.250000</td>\n",
       "      <td>17.997500</td>\n",
       "      <td>84.547500</td>\n",
       "      <td>17.250000</td>\n",
       "      <td>8</td>\n",
       "    </tr>\n",
       "    <tr>\n",
       "      <th>Bronx</th>\n",
       "      <th>Staten Island</th>\n",
       "      <td>1.000000</td>\n",
       "      <td>24.666667</td>\n",
       "      <td>81.100000</td>\n",
       "      <td>19.333333</td>\n",
       "      <td>6</td>\n",
       "    </tr>\n",
       "    <tr>\n",
       "      <th>Staten Island</th>\n",
       "      <th>Queens</th>\n",
       "      <td>1.055556</td>\n",
       "      <td>24.105000</td>\n",
       "      <td>80.640000</td>\n",
       "      <td>20.500000</td>\n",
       "      <td>18</td>\n",
       "    </tr>\n",
       "    <tr>\n",
       "      <th>Manhattan</th>\n",
       "      <th>Staten Island</th>\n",
       "      <td>1.448980</td>\n",
       "      <td>19.183707</td>\n",
       "      <td>80.528886</td>\n",
       "      <td>23.537415</td>\n",
       "      <td>294</td>\n",
       "    </tr>\n",
       "    <tr>\n",
       "      <th rowspan=\"2\" valign=\"top\">Staten Island</th>\n",
       "      <th>Bronx</th>\n",
       "      <td>1.000000</td>\n",
       "      <td>27.025000</td>\n",
       "      <td>78.862500</td>\n",
       "      <td>16.750000</td>\n",
       "      <td>8</td>\n",
       "    </tr>\n",
       "    <tr>\n",
       "      <th>Manhattan</th>\n",
       "      <td>1.000000</td>\n",
       "      <td>18.097959</td>\n",
       "      <td>76.166735</td>\n",
       "      <td>18.530612</td>\n",
       "      <td>49</td>\n",
       "    </tr>\n",
       "    <tr>\n",
       "      <th>Bronx</th>\n",
       "      <th>Brooklyn</th>\n",
       "      <td>1.053333</td>\n",
       "      <td>18.021689</td>\n",
       "      <td>65.081556</td>\n",
       "      <td>19.106667</td>\n",
       "      <td>225</td>\n",
       "    </tr>\n",
       "    <tr>\n",
       "      <th>Queens</th>\n",
       "      <th>Manhattan</th>\n",
       "      <td>1.488136</td>\n",
       "      <td>14.644834</td>\n",
       "      <td>61.493945</td>\n",
       "      <td>22.723363</td>\n",
       "      <td>188771</td>\n",
       "    </tr>\n",
       "    <tr>\n",
       "      <th>Brooklyn</th>\n",
       "      <th>Bronx</th>\n",
       "      <td>1.028571</td>\n",
       "      <td>17.907429</td>\n",
       "      <td>61.378500</td>\n",
       "      <td>20.890476</td>\n",
       "      <td>210</td>\n",
       "    </tr>\n",
       "    <tr>\n",
       "      <th>Staten Island</th>\n",
       "      <th>Brooklyn</th>\n",
       "      <td>1.050000</td>\n",
       "      <td>17.975833</td>\n",
       "      <td>60.638333</td>\n",
       "      <td>22.816667</td>\n",
       "      <td>60</td>\n",
       "    </tr>\n",
       "    <tr>\n",
       "      <th>Queens</th>\n",
       "      <th>Bronx</th>\n",
       "      <td>1.371839</td>\n",
       "      <td>16.118392</td>\n",
       "      <td>58.575705</td>\n",
       "      <td>24.615516</td>\n",
       "      <td>5852</td>\n",
       "    </tr>\n",
       "    <tr>\n",
       "      <th>Brooklyn</th>\n",
       "      <th>Staten Island</th>\n",
       "      <td>1.051282</td>\n",
       "      <td>17.188718</td>\n",
       "      <td>57.986667</td>\n",
       "      <td>24.576923</td>\n",
       "      <td>78</td>\n",
       "    </tr>\n",
       "    <tr>\n",
       "      <th>Queens</th>\n",
       "      <th>Brooklyn</th>\n",
       "      <td>1.360807</td>\n",
       "      <td>14.234005</td>\n",
       "      <td>50.008171</td>\n",
       "      <td>24.345425</td>\n",
       "      <td>46809</td>\n",
       "    </tr>\n",
       "    <tr>\n",
       "      <th>Manhattan</th>\n",
       "      <th>Queens</th>\n",
       "      <td>1.454077</td>\n",
       "      <td>11.165359</td>\n",
       "      <td>49.065448</td>\n",
       "      <td>24.551498</td>\n",
       "      <td>122334</td>\n",
       "    </tr>\n",
       "    <tr>\n",
       "      <th>Bronx</th>\n",
       "      <th>Queens</th>\n",
       "      <td>1.096774</td>\n",
       "      <td>11.802627</td>\n",
       "      <td>47.031198</td>\n",
       "      <td>23.423963</td>\n",
       "      <td>217</td>\n",
       "    </tr>\n",
       "    <tr>\n",
       "      <th>Brooklyn</th>\n",
       "      <th>Queens</th>\n",
       "      <td>1.398799</td>\n",
       "      <td>11.431604</td>\n",
       "      <td>43.101291</td>\n",
       "      <td>23.650450</td>\n",
       "      <td>1665</td>\n",
       "    </tr>\n",
       "    <tr>\n",
       "      <th rowspan=\"2\" valign=\"top\">Manhattan</th>\n",
       "      <th>Bronx</th>\n",
       "      <td>1.358908</td>\n",
       "      <td>8.715453</td>\n",
       "      <td>35.013433</td>\n",
       "      <td>25.422363</td>\n",
       "      <td>10401</td>\n",
       "    </tr>\n",
       "    <tr>\n",
       "      <th>Brooklyn</th>\n",
       "      <td>1.392657</td>\n",
       "      <td>6.560599</td>\n",
       "      <td>33.105638</td>\n",
       "      <td>25.941361</td>\n",
       "      <td>75035</td>\n",
       "    </tr>\n",
       "    <tr>\n",
       "      <th>Bronx</th>\n",
       "      <th>Manhattan</th>\n",
       "      <td>1.155031</td>\n",
       "      <td>6.978460</td>\n",
       "      <td>31.612664</td>\n",
       "      <td>22.549281</td>\n",
       "      <td>974</td>\n",
       "    </tr>\n",
       "    <tr>\n",
       "      <th>Brooklyn</th>\n",
       "      <th>Manhattan</th>\n",
       "      <td>1.393087</td>\n",
       "      <td>5.959266</td>\n",
       "      <td>30.815378</td>\n",
       "      <td>24.378275</td>\n",
       "      <td>7291</td>\n",
       "    </tr>\n",
       "    <tr>\n",
       "      <th>Queens</th>\n",
       "      <th>Queens</th>\n",
       "      <td>1.401065</td>\n",
       "      <td>7.285355</td>\n",
       "      <td>30.345351</td>\n",
       "      <td>21.387629</td>\n",
       "      <td>60287</td>\n",
       "    </tr>\n",
       "    <tr>\n",
       "      <th>Staten Island</th>\n",
       "      <th>Staten Island</th>\n",
       "      <td>1.179487</td>\n",
       "      <td>1.791795</td>\n",
       "      <td>23.448205</td>\n",
       "      <td>18.538462</td>\n",
       "      <td>39</td>\n",
       "    </tr>\n",
       "    <tr>\n",
       "      <th>Bronx</th>\n",
       "      <th>Bronx</th>\n",
       "      <td>1.177397</td>\n",
       "      <td>3.211438</td>\n",
       "      <td>20.365968</td>\n",
       "      <td>21.957534</td>\n",
       "      <td>1460</td>\n",
       "    </tr>\n",
       "    <tr>\n",
       "      <th>Brooklyn</th>\n",
       "      <th>Brooklyn</th>\n",
       "      <td>1.334064</td>\n",
       "      <td>2.670022</td>\n",
       "      <td>16.769276</td>\n",
       "      <td>19.075515</td>\n",
       "      <td>9124</td>\n",
       "    </tr>\n",
       "    <tr>\n",
       "      <th>Manhattan</th>\n",
       "      <th>Manhattan</th>\n",
       "      <td>1.399092</td>\n",
       "      <td>2.054017</td>\n",
       "      <td>16.395209</td>\n",
       "      <td>18.416797</td>\n",
       "      <td>2875897</td>\n",
       "    </tr>\n",
       "  </tbody>\n",
       "</table>\n",
       "</div>"
      ],
      "text/plain": [
       "                             passenger_count  trip_distance  total_amount  \\\n",
       "PUborough     DOborough                                                     \n",
       "Bronx         EWR                   1.500000      25.165000    191.325000   \n",
       "Queens        EWR                   1.449275      33.595072    154.922812   \n",
       "EWR           Queens                1.000000      46.055000    107.325000   \n",
       "              Brooklyn              1.000000      31.270000    105.600000   \n",
       "              Staten Island         1.000000      23.740000    103.860000   \n",
       "Brooklyn      EWR                   1.339623      18.160377    101.006415   \n",
       "Manhattan     EWR                   1.620853      17.541237    100.296029   \n",
       "Queens        Staten Island         1.401813      26.974048     91.277455   \n",
       "EWR           EWR                   1.734375       2.983437     90.413400   \n",
       "Staten Island EWR                   2.000000      14.526667     87.183333   \n",
       "EWR           Manhattan             1.250000      17.997500     84.547500   \n",
       "Bronx         Staten Island         1.000000      24.666667     81.100000   \n",
       "Staten Island Queens                1.055556      24.105000     80.640000   \n",
       "Manhattan     Staten Island         1.448980      19.183707     80.528886   \n",
       "Staten Island Bronx                 1.000000      27.025000     78.862500   \n",
       "              Manhattan             1.000000      18.097959     76.166735   \n",
       "Bronx         Brooklyn              1.053333      18.021689     65.081556   \n",
       "Queens        Manhattan             1.488136      14.644834     61.493945   \n",
       "Brooklyn      Bronx                 1.028571      17.907429     61.378500   \n",
       "Staten Island Brooklyn              1.050000      17.975833     60.638333   \n",
       "Queens        Bronx                 1.371839      16.118392     58.575705   \n",
       "Brooklyn      Staten Island         1.051282      17.188718     57.986667   \n",
       "Queens        Brooklyn              1.360807      14.234005     50.008171   \n",
       "Manhattan     Queens                1.454077      11.165359     49.065448   \n",
       "Bronx         Queens                1.096774      11.802627     47.031198   \n",
       "Brooklyn      Queens                1.398799      11.431604     43.101291   \n",
       "Manhattan     Bronx                 1.358908       8.715453     35.013433   \n",
       "              Brooklyn              1.392657       6.560599     33.105638   \n",
       "Bronx         Manhattan             1.155031       6.978460     31.612664   \n",
       "Brooklyn      Manhattan             1.393087       5.959266     30.815378   \n",
       "Queens        Queens                1.401065       7.285355     30.345351   \n",
       "Staten Island Staten Island         1.179487       1.791795     23.448205   \n",
       "Bronx         Bronx                 1.177397       3.211438     20.365968   \n",
       "Brooklyn      Brooklyn              1.334064       2.670022     16.769276   \n",
       "Manhattan     Manhattan             1.399092       2.054017     16.395209   \n",
       "\n",
       "                             trip_time_minutes  RatecodeID  \n",
       "PUborough     DOborough                                     \n",
       "Bronx         EWR                    10.500000           2  \n",
       "Queens        EWR                    16.321739         345  \n",
       "EWR           Queens                 25.000000           2  \n",
       "              Brooklyn                1.000000           1  \n",
       "              Staten Island           2.000000           1  \n",
       "Brooklyn      EWR                    20.773585          53  \n",
       "Manhattan     EWR                    24.371211        9073  \n",
       "Queens        Staten Island          19.193353         331  \n",
       "EWR           EWR                     4.671875          64  \n",
       "Staten Island EWR                    28.000000           3  \n",
       "EWR           Manhattan              17.250000           8  \n",
       "Bronx         Staten Island          19.333333           6  \n",
       "Staten Island Queens                 20.500000          18  \n",
       "Manhattan     Staten Island          23.537415         294  \n",
       "Staten Island Bronx                  16.750000           8  \n",
       "              Manhattan              18.530612          49  \n",
       "Bronx         Brooklyn               19.106667         225  \n",
       "Queens        Manhattan              22.723363      188771  \n",
       "Brooklyn      Bronx                  20.890476         210  \n",
       "Staten Island Brooklyn               22.816667          60  \n",
       "Queens        Bronx                  24.615516        5852  \n",
       "Brooklyn      Staten Island          24.576923          78  \n",
       "Queens        Brooklyn               24.345425       46809  \n",
       "Manhattan     Queens                 24.551498      122334  \n",
       "Bronx         Queens                 23.423963         217  \n",
       "Brooklyn      Queens                 23.650450        1665  \n",
       "Manhattan     Bronx                  25.422363       10401  \n",
       "              Brooklyn               25.941361       75035  \n",
       "Bronx         Manhattan              22.549281         974  \n",
       "Brooklyn      Manhattan              24.378275        7291  \n",
       "Queens        Queens                 21.387629       60287  \n",
       "Staten Island Staten Island          18.538462          39  \n",
       "Bronx         Bronx                  21.957534        1460  \n",
       "Brooklyn      Brooklyn               19.075515        9124  \n",
       "Manhattan     Manhattan              18.416797     2875897  "
      ]
     },
     "execution_count": 17,
     "metadata": {},
     "output_type": "execute_result"
    }
   ],
   "source": [
    "tripsmry=df.groupby(['PUborough','DOborough']).agg({'passenger_count':'mean', 'trip_distance':'mean', 'total_amount':'mean','trip_time_minutes':'mean','RatecodeID':'count'}).sort_values(\"total_amount\", ascending=False)\n",
    "tripsmry"
   ]
  },
  {
   "cell_type": "markdown",
   "id": "87c3b59e",
   "metadata": {},
   "source": [
    "Observasi: \n",
    "1. Trips within Manhattan are the most frequent trips with 2,875,897 trips. \n",
    "2. Trips to Brooklyn and Staten Island are the fewest trips, only 1 trip.\n",
    "3. Trips from State Island to EWR are the trips with the most passengers with an average of 2 passengers.\n",
    "4. Trips from EWR to Queens, Brooklyn and Staten Island are the trips with the least number of passengers, that is, an average of 1 person\n",
    "5. Trips between Boroughs from EWR and to Queend are the trips with the farthest routes with an average of 46 miles\n",
    "6. Trips between Boroughs from Brooklyn and to Manhattan are the trips with the shortest routes. with an average of 5.9 miles\n",
    "7. Trip within the Borough Longest is the Bronx with an average of 3.2 miles\n",
    "8. Trip within the Shortest Borough is Staten Island with an average of 1.7 miles\n",
    "9. The longest trip between Boroughs is from Statend Island to EWR with an average travel time of 28 minutes\n",
    "10. The fastest trip between Boroughs is from EWR to Brooklyn with an average travel time of 1 minute.\n",
    "11. The longest trip inside The Borough is the Bronx with an average travel time of 21.9 minutes\n",
    "12. The fastest trip within the Borough is EWR with an average travel time of 4.6 minutes\n",
    "13. The most expensive total_amount trip is from the Bronx to EWR with an average of 191 USD\n",
    "14. Trips within Manhattan are the trip with the lowest total_amount, with an average of 19 USD\n"
   ]
  },
  {
   "cell_type": "markdown",
   "id": "322c567d",
   "metadata": {},
   "source": [
    "## 4.4 Pick up Time"
   ]
  },
  {
   "cell_type": "code",
   "execution_count": 18,
   "id": "579adb85",
   "metadata": {
    "scrolled": false
   },
   "outputs": [
    {
     "data": {
      "image/png": "[encoded data removed]",
      "text/plain": [
       "<Figure size 576x288 with 1 Axes>"
      ]
     },
     "metadata": {
      "needs_background": "light"
     },
     "output_type": "display_data"
    }
   ],
   "source": [
    "plt.figure(figsize = (8,4))\n",
    "# Orders by hour\n",
    "orderbyhour = df.groupby(df[\"tpep_pickup_datetime\"].dt.hour)[\"PUborough\"].count().reset_index().sort_values(by=\"tpep_pickup_datetime\", ascending=False)\n",
    "orderbyhour.rename(columns={\"PUborough\":\"Total Orders\", \"tpep_pickup_datetime\": \"Hour of Day\"}, inplace=True)\n",
    "orderbyhour_ax = sns.barplot(x=\"Hour of Day\", y=\"Total Orders\", data=orderbyhour)\n",
    "orderbyhour_ax.set_title(\"N° of Orders by hour\")\n",
    "plt.show()"
   ]
  },
  {
   "cell_type": "markdown",
   "id": "78c8f36a",
   "metadata": {},
   "source": [
    "The number of pick-ups starts to increase from 7 AM and reaches its peak at 18.00 which is the time to go home from work."
   ]
  },
  {
   "cell_type": "code",
   "execution_count": 19,
   "id": "6580c220",
   "metadata": {
    "scrolled": true
   },
   "outputs": [
    {
     "data": {
      "image/png": "[encoded data removed]",
      "text/plain": [
       "<Figure size 576x288 with 1 Axes>"
      ]
     },
     "metadata": {
      "needs_background": "light"
     },
     "output_type": "display_data"
    }
   ],
   "source": [
    "plt.figure(figsize = (8,4))\n",
    "df_time = df.copy()\n",
    "df_time['pickup_hour'] = df_time['tpep_pickup_datetime'].dt.hour  \n",
    "df_time['pickup_year'] = df_time['tpep_pickup_datetime'].dt.year\n",
    "df_time['pickup_month'] = df_time['tpep_pickup_datetime'].dt.month\n",
    "df_time['pickup_day'] = df_time['tpep_pickup_datetime'].dt.day_name()\n",
    "sns.lineplot(x='pickup_hour',y='trip_time_minutes',data=df_time)\n",
    "plt.show()"
   ]
  },
  {
   "cell_type": "markdown",
   "id": "e681f4fa",
   "metadata": {},
   "source": [
    "5 AM is the time with the longest trip duration, while productive time (7-18) has relatively the same trip duration"
   ]
  },
  {
   "cell_type": "code",
   "execution_count": 20,
   "id": "6d4eda7a",
   "metadata": {},
   "outputs": [
    {
     "data": {
      "image/png": "[encoded data removed]",
      "text/plain": [
       "<Figure size 576x288 with 1 Axes>"
      ]
     },
     "metadata": {
      "needs_background": "light"
     },
     "output_type": "display_data"
    }
   ],
   "source": [
    "plt.figure(figsize = (8,4))\n",
    "# Orders by days\n",
    "orderbydays = df.groupby(df[\"tpep_pickup_datetime\"].dt.day_name())[\"PUborough\"].count().reset_index().sort_values(by=\"tpep_pickup_datetime\", ascending=False)\n",
    "orderbydays.rename(columns={\"tpep_pickup_datetime\":\"Days\", \"PUborough\": \"Total Orders\"}, inplace=True)\n",
    "orderbydays = orderbydays.sort_values(by=\"Total Orders\", ascending=False)\n",
    "orderbydays = sns.barplot(x=\"Total Orders\", y=\"Days\", data=orderbydays)\n",
    "orderbydays.set_title(\"N° of Orders by days\")\n",
    "plt.show()"
   ]
  },
  {
   "cell_type": "markdown",
   "id": "dbd97d6a",
   "metadata": {},
   "source": [
    "Saturday was the day with the largest number of pick-ups, while Wednesday and Tuesday were the days with the least number of pick-ups"
   ]
  },
  {
   "cell_type": "markdown",
   "id": "0c04f308",
   "metadata": {},
   "source": [
    "## 4.5 Payment Type"
   ]
  },
  {
   "cell_type": "code",
   "execution_count": 21,
   "id": "afb6cb49",
   "metadata": {},
   "outputs": [
    {
     "name": "stdout",
     "output_type": "stream",
     "text": [
      "1    79.722516\n",
      "2    19.032323\n",
      "4     0.817270\n",
      "3     0.427892\n",
      "Name: payment_type, dtype: float64\n"
     ]
    },
    {
     "data": {
      "image/png": "[encoded data removed]",
      "text/plain": [
       "<Figure size 576x288 with 1 Axes>"
      ]
     },
     "metadata": {
      "needs_background": "light"
     },
     "output_type": "display_data"
    }
   ],
   "source": [
    "plt.figure(figsize=(8,4))\n",
    "sns.countplot(x = 'payment_type',\n",
    "              data = df,\n",
    "              order = df['payment_type'].value_counts().index)\n",
    "plt.tight_layout()\n",
    "print(df['payment_type'].value_counts() / df['payment_type'].count() * 100)"
   ]
  },
  {
   "cell_type": "markdown",
   "id": "1f159625",
   "metadata": {},
   "source": [
    "Most payments are using a credit card, namely 79.7%"
   ]
  },
  {
   "cell_type": "markdown",
   "id": "d317232a",
   "metadata": {},
   "source": [
    "## 4.6 Rate Code"
   ]
  },
  {
   "cell_type": "code",
   "execution_count": 22,
   "id": "4c99e265",
   "metadata": {
    "scrolled": false
   },
   "outputs": [
    {
     "name": "stdout",
     "output_type": "stream",
     "text": [
      "1.0    95.237559\n",
      "2.0     4.186349\n",
      "5.0     0.290987\n",
      "3.0     0.268804\n",
      "4.0     0.016038\n",
      "6.0     0.000263\n",
      "Name: RatecodeID, dtype: float64\n"
     ]
    },
    {
     "data": {
      "image/png": "[encoded data removed]",
      "text/plain": [
       "<Figure size 576x288 with 1 Axes>"
      ]
     },
     "metadata": {
      "needs_background": "light"
     },
     "output_type": "display_data"
    }
   ],
   "source": [
    "plt.figure(figsize=(8,4))\n",
    "sns.countplot(x = 'RatecodeID',\n",
    "              data = df,\n",
    "              order = df['RatecodeID'].value_counts().index)\n",
    "plt.tight_layout()\n",
    "print(df['RatecodeID'].value_counts() / df['RatecodeID'].count() * 100)"
   ]
  },
  {
   "cell_type": "markdown",
   "id": "5e69cf2d",
   "metadata": {},
   "source": [
    "95.2% rate is the standard rate"
   ]
  },
  {
   "cell_type": "markdown",
   "id": "98b4dc9c",
   "metadata": {},
   "source": [
    "# 5. Data Preprocessing"
   ]
  },
  {
   "cell_type": "markdown",
   "id": "65e77e93",
   "metadata": {},
   "source": [
    "## 5.1 Trip Clustering "
   ]
  },
  {
   "cell_type": "markdown",
   "id": "b11199fe",
   "metadata": {},
   "source": [
    "Trip clustering is used to facilitate analysis because there are so many trip combinations, therefore it is simplified to just 30 clusters"
   ]
  },
  {
   "cell_type": "code",
   "execution_count": 23,
   "id": "efba6ed8",
   "metadata": {},
   "outputs": [],
   "source": [
    "from sklearn.cluster import MiniBatchKMeans, KMeans\n",
    "\n",
    "coord = df[[\"PULocationID\", \"DOLocationID\"]].values\n",
    "regions = MiniBatchKMeans(n_clusters = 30,  batch_size  = 10000).fit(coord)"
   ]
  },
  {
   "cell_type": "code",
   "execution_count": 24,
   "id": "468cdfbc",
   "metadata": {
    "scrolled": true
   },
   "outputs": [
    {
     "name": "stderr",
     "output_type": "stream",
     "text": [
      "C:\\Users\\azakf\\anaconda3\\lib\\site-packages\\sklearn\\base.py:443: UserWarning: X has feature names, but MiniBatchKMeans was fitted without feature names\n",
      "  warnings.warn(\n"
     ]
    }
   ],
   "source": [
    "cluster_column = regions.predict(df[[\"PULocationID\", \"DOLocationID\"]])\n",
    "df[\"pickup_cluster\"] = cluster_column"
   ]
  },
  {
   "cell_type": "code",
   "execution_count": 25,
   "id": "a290406b",
   "metadata": {
    "scrolled": false
   },
   "outputs": [
    {
     "data": {
      "text/html": [
       "<div>\n",
       "<style scoped>\n",
       "    .dataframe tbody tr th:only-of-type {\n",
       "        vertical-align: middle;\n",
       "    }\n",
       "\n",
       "    .dataframe tbody tr th {\n",
       "        vertical-align: top;\n",
       "    }\n",
       "\n",
       "    .dataframe thead th {\n",
       "        text-align: right;\n",
       "    }\n",
       "</style>\n",
       "<table border=\"1\" class=\"dataframe\">\n",
       "  <thead>\n",
       "    <tr style=\"text-align: right;\">\n",
       "      <th></th>\n",
       "      <th>VendorID</th>\n",
       "      <th>tpep_pickup_datetime</th>\n",
       "      <th>tpep_dropoff_datetime</th>\n",
       "      <th>passenger_count</th>\n",
       "      <th>trip_distance</th>\n",
       "      <th>RatecodeID</th>\n",
       "      <th>store_and_fwd_flag</th>\n",
       "      <th>PULocationID</th>\n",
       "      <th>DOLocationID</th>\n",
       "      <th>payment_type</th>\n",
       "      <th>...</th>\n",
       "      <th>tip_amount</th>\n",
       "      <th>tolls_amount</th>\n",
       "      <th>improvement_surcharge</th>\n",
       "      <th>total_amount</th>\n",
       "      <th>congestion_surcharge</th>\n",
       "      <th>airport_fee</th>\n",
       "      <th>PUborough</th>\n",
       "      <th>DOborough</th>\n",
       "      <th>trip_time_minutes</th>\n",
       "      <th>pickup_cluster</th>\n",
       "    </tr>\n",
       "  </thead>\n",
       "  <tbody>\n",
       "    <tr>\n",
       "      <th>0</th>\n",
       "      <td>1</td>\n",
       "      <td>2022-10-01 00:03:41</td>\n",
       "      <td>2022-10-01 00:18:39</td>\n",
       "      <td>1.0</td>\n",
       "      <td>1.70</td>\n",
       "      <td>1.0</td>\n",
       "      <td>N</td>\n",
       "      <td>249</td>\n",
       "      <td>107</td>\n",
       "      <td>1</td>\n",
       "      <td>...</td>\n",
       "      <td>2.65</td>\n",
       "      <td>0.0</td>\n",
       "      <td>0.3</td>\n",
       "      <td>15.95</td>\n",
       "      <td>2.5</td>\n",
       "      <td>0.0</td>\n",
       "      <td>Manhattan</td>\n",
       "      <td>Manhattan</td>\n",
       "      <td>15</td>\n",
       "      <td>13</td>\n",
       "    </tr>\n",
       "    <tr>\n",
       "      <th>1</th>\n",
       "      <td>1</td>\n",
       "      <td>2022-10-01 00:24:42</td>\n",
       "      <td>2022-10-01 00:29:02</td>\n",
       "      <td>1.0</td>\n",
       "      <td>0.90</td>\n",
       "      <td>1.0</td>\n",
       "      <td>N</td>\n",
       "      <td>249</td>\n",
       "      <td>107</td>\n",
       "      <td>1</td>\n",
       "      <td>...</td>\n",
       "      <td>2.20</td>\n",
       "      <td>0.0</td>\n",
       "      <td>0.3</td>\n",
       "      <td>11.00</td>\n",
       "      <td>2.5</td>\n",
       "      <td>0.0</td>\n",
       "      <td>Manhattan</td>\n",
       "      <td>Manhattan</td>\n",
       "      <td>5</td>\n",
       "      <td>13</td>\n",
       "    </tr>\n",
       "    <tr>\n",
       "      <th>2</th>\n",
       "      <td>2</td>\n",
       "      <td>2022-10-01 00:25:37</td>\n",
       "      <td>2022-10-01 00:38:22</td>\n",
       "      <td>1.0</td>\n",
       "      <td>1.73</td>\n",
       "      <td>1.0</td>\n",
       "      <td>N</td>\n",
       "      <td>249</td>\n",
       "      <td>107</td>\n",
       "      <td>1</td>\n",
       "      <td>...</td>\n",
       "      <td>2.00</td>\n",
       "      <td>0.0</td>\n",
       "      <td>0.3</td>\n",
       "      <td>15.30</td>\n",
       "      <td>2.5</td>\n",
       "      <td>0.0</td>\n",
       "      <td>Manhattan</td>\n",
       "      <td>Manhattan</td>\n",
       "      <td>13</td>\n",
       "      <td>13</td>\n",
       "    </tr>\n",
       "  </tbody>\n",
       "</table>\n",
       "<p>3 rows × 23 columns</p>\n",
       "</div>"
      ],
      "text/plain": [
       "   VendorID tpep_pickup_datetime tpep_dropoff_datetime  passenger_count  \\\n",
       "0         1  2022-10-01 00:03:41   2022-10-01 00:18:39              1.0   \n",
       "1         1  2022-10-01 00:24:42   2022-10-01 00:29:02              1.0   \n",
       "2         2  2022-10-01 00:25:37   2022-10-01 00:38:22              1.0   \n",
       "\n",
       "   trip_distance  RatecodeID store_and_fwd_flag  PULocationID  DOLocationID  \\\n",
       "0           1.70         1.0                  N           249           107   \n",
       "1           0.90         1.0                  N           249           107   \n",
       "2           1.73         1.0                  N           249           107   \n",
       "\n",
       "   payment_type  ...  tip_amount  tolls_amount  improvement_surcharge  \\\n",
       "0             1  ...        2.65           0.0                    0.3   \n",
       "1             1  ...        2.20           0.0                    0.3   \n",
       "2             1  ...        2.00           0.0                    0.3   \n",
       "\n",
       "   total_amount  congestion_surcharge  airport_fee  PUborough  DOborough  \\\n",
       "0         15.95                   2.5          0.0  Manhattan  Manhattan   \n",
       "1         11.00                   2.5          0.0  Manhattan  Manhattan   \n",
       "2         15.30                   2.5          0.0  Manhattan  Manhattan   \n",
       "\n",
       "   trip_time_minutes pickup_cluster  \n",
       "0                 15             13  \n",
       "1                  5             13  \n",
       "2                 13             13  \n",
       "\n",
       "[3 rows x 23 columns]"
      ]
     },
     "execution_count": 25,
     "metadata": {},
     "output_type": "execute_result"
    }
   ],
   "source": [
    "df.head(3)"
   ]
  },
  {
   "cell_type": "code",
   "execution_count": 26,
   "id": "63a789b2",
   "metadata": {},
   "outputs": [],
   "source": [
    "# Pick up time feature is rounded up in hours\n",
    "df_n = df.copy()\n",
    "df_n['tpep_pickup_datetime'] =  df_n['tpep_pickup_datetime'].apply(lambda x : pd.to_datetime(x).replace(minute=0, second=0) + timedelta(hours=1))"
   ]
  },
  {
   "cell_type": "code",
   "execution_count": 27,
   "id": "27ecc70c",
   "metadata": {
    "scrolled": false
   },
   "outputs": [
    {
     "data": {
      "text/html": [
       "<div>\n",
       "<style scoped>\n",
       "    .dataframe tbody tr th:only-of-type {\n",
       "        vertical-align: middle;\n",
       "    }\n",
       "\n",
       "    .dataframe tbody tr th {\n",
       "        vertical-align: top;\n",
       "    }\n",
       "\n",
       "    .dataframe thead th {\n",
       "        text-align: right;\n",
       "    }\n",
       "</style>\n",
       "<table border=\"1\" class=\"dataframe\">\n",
       "  <thead>\n",
       "    <tr style=\"text-align: right;\">\n",
       "      <th></th>\n",
       "      <th>tpep_pickup_datetime</th>\n",
       "      <th>pickup_cluster</th>\n",
       "      <th>count</th>\n",
       "    </tr>\n",
       "  </thead>\n",
       "  <tbody>\n",
       "    <tr>\n",
       "      <th>0</th>\n",
       "      <td>2022-10-01 01:00:00</td>\n",
       "      <td>0</td>\n",
       "      <td>117</td>\n",
       "    </tr>\n",
       "    <tr>\n",
       "      <th>1</th>\n",
       "      <td>2022-10-01 01:00:00</td>\n",
       "      <td>1</td>\n",
       "      <td>278</td>\n",
       "    </tr>\n",
       "    <tr>\n",
       "      <th>2</th>\n",
       "      <td>2022-10-01 01:00:00</td>\n",
       "      <td>2</td>\n",
       "      <td>118</td>\n",
       "    </tr>\n",
       "  </tbody>\n",
       "</table>\n",
       "</div>"
      ],
      "text/plain": [
       "  tpep_pickup_datetime  pickup_cluster  count\n",
       "0  2022-10-01 01:00:00               0    117\n",
       "1  2022-10-01 01:00:00               1    278\n",
       "2  2022-10-01 01:00:00               2    118"
      ]
     },
     "execution_count": 27,
     "metadata": {},
     "output_type": "execute_result"
    }
   ],
   "source": [
    "# Grouping time in hours to find out the number of pick ups that occurred at that hour\n",
    "df_n = df_n.groupby(['tpep_pickup_datetime','pickup_cluster']).size().reset_index(name='count')\n",
    "df_n.head(3)"
   ]
  },
  {
   "cell_type": "code",
   "execution_count": 28,
   "id": "e9345247",
   "metadata": {},
   "outputs": [],
   "source": [
    "df_z = df_n.copy()"
   ]
  },
  {
   "cell_type": "code",
   "execution_count": 29,
   "id": "53c704f5",
   "metadata": {},
   "outputs": [
    {
     "data": {
      "text/html": [
       "<div>\n",
       "<style scoped>\n",
       "    .dataframe tbody tr th:only-of-type {\n",
       "        vertical-align: middle;\n",
       "    }\n",
       "\n",
       "    .dataframe tbody tr th {\n",
       "        vertical-align: top;\n",
       "    }\n",
       "\n",
       "    .dataframe thead th {\n",
       "        text-align: right;\n",
       "    }\n",
       "</style>\n",
       "<table border=\"1\" class=\"dataframe\">\n",
       "  <thead>\n",
       "    <tr style=\"text-align: right;\">\n",
       "      <th></th>\n",
       "      <th>tpep_pickup_datetime</th>\n",
       "      <th>pickup_cluster</th>\n",
       "      <th>count</th>\n",
       "    </tr>\n",
       "  </thead>\n",
       "  <tbody>\n",
       "    <tr>\n",
       "      <th>0</th>\n",
       "      <td>2022-10-01 01:00:00</td>\n",
       "      <td>0</td>\n",
       "      <td>0.106267</td>\n",
       "    </tr>\n",
       "    <tr>\n",
       "      <th>1</th>\n",
       "      <td>2022-10-01 01:00:00</td>\n",
       "      <td>1</td>\n",
       "      <td>0.252498</td>\n",
       "    </tr>\n",
       "    <tr>\n",
       "      <th>2</th>\n",
       "      <td>2022-10-01 01:00:00</td>\n",
       "      <td>2</td>\n",
       "      <td>0.107175</td>\n",
       "    </tr>\n",
       "  </tbody>\n",
       "</table>\n",
       "</div>"
      ],
      "text/plain": [
       "  tpep_pickup_datetime  pickup_cluster     count\n",
       "0  2022-10-01 01:00:00               0  0.106267\n",
       "1  2022-10-01 01:00:00               1  0.252498\n",
       "2  2022-10-01 01:00:00               2  0.107175"
      ]
     },
     "execution_count": 29,
     "metadata": {},
     "output_type": "execute_result"
    }
   ],
   "source": [
    "# The number of pick ups is converted to a ratio based on the highest number of pick ups\n",
    "df_z['count'] = df_z['count'].apply(lambda x :  (x /  df_z['count'].max()))\n",
    "df_z.head(3)"
   ]
  },
  {
   "cell_type": "code",
   "execution_count": 30,
   "id": "a10996d9",
   "metadata": {
    "scrolled": false
   },
   "outputs": [
    {
     "data": {
      "text/html": [
       "<div>\n",
       "<style scoped>\n",
       "    .dataframe tbody tr th:only-of-type {\n",
       "        vertical-align: middle;\n",
       "    }\n",
       "\n",
       "    .dataframe tbody tr th {\n",
       "        vertical-align: top;\n",
       "    }\n",
       "\n",
       "    .dataframe thead th {\n",
       "        text-align: right;\n",
       "    }\n",
       "</style>\n",
       "<table border=\"1\" class=\"dataframe\">\n",
       "  <thead>\n",
       "    <tr style=\"text-align: right;\">\n",
       "      <th></th>\n",
       "      <th>tpep_pickup_datetime</th>\n",
       "      <th>pickup_cluster</th>\n",
       "      <th>count</th>\n",
       "      <th>day</th>\n",
       "      <th>dayofweek</th>\n",
       "      <th>hour</th>\n",
       "    </tr>\n",
       "  </thead>\n",
       "  <tbody>\n",
       "    <tr>\n",
       "      <th>0</th>\n",
       "      <td>2022-10-01 01:00:00</td>\n",
       "      <td>0</td>\n",
       "      <td>0.106267</td>\n",
       "      <td>1</td>\n",
       "      <td>5</td>\n",
       "      <td>1</td>\n",
       "    </tr>\n",
       "    <tr>\n",
       "      <th>1</th>\n",
       "      <td>2022-10-01 01:00:00</td>\n",
       "      <td>1</td>\n",
       "      <td>0.252498</td>\n",
       "      <td>1</td>\n",
       "      <td>5</td>\n",
       "      <td>1</td>\n",
       "    </tr>\n",
       "    <tr>\n",
       "      <th>2</th>\n",
       "      <td>2022-10-01 01:00:00</td>\n",
       "      <td>2</td>\n",
       "      <td>0.107175</td>\n",
       "      <td>1</td>\n",
       "      <td>5</td>\n",
       "      <td>1</td>\n",
       "    </tr>\n",
       "  </tbody>\n",
       "</table>\n",
       "</div>"
      ],
      "text/plain": [
       "  tpep_pickup_datetime  pickup_cluster     count  day  dayofweek  hour\n",
       "0  2022-10-01 01:00:00               0  0.106267    1          5     1\n",
       "1  2022-10-01 01:00:00               1  0.252498    1          5     1\n",
       "2  2022-10-01 01:00:00               2  0.107175    1          5     1"
      ]
     },
     "execution_count": 30,
     "metadata": {},
     "output_type": "execute_result"
    }
   ],
   "source": [
    "df_z['day'] = pd.DatetimeIndex(df_z['tpep_pickup_datetime']).day\n",
    "df_z['dayofweek'] = pd.DatetimeIndex(df_z['tpep_pickup_datetime']).dayofweek\n",
    "df_z['hour'] = pd.DatetimeIndex(df_z['tpep_pickup_datetime']).hour\n",
    "df_z.head(3)"
   ]
  },
  {
   "cell_type": "code",
   "execution_count": 31,
   "id": "ca2bf977",
   "metadata": {
    "scrolled": true
   },
   "outputs": [
    {
     "data": {
      "text/html": [
       "<div>\n",
       "<style scoped>\n",
       "    .dataframe tbody tr th:only-of-type {\n",
       "        vertical-align: middle;\n",
       "    }\n",
       "\n",
       "    .dataframe tbody tr th {\n",
       "        vertical-align: top;\n",
       "    }\n",
       "\n",
       "    .dataframe thead th {\n",
       "        text-align: right;\n",
       "    }\n",
       "</style>\n",
       "<table border=\"1\" class=\"dataframe\">\n",
       "  <thead>\n",
       "    <tr style=\"text-align: right;\">\n",
       "      <th></th>\n",
       "      <th>pickup_cluster</th>\n",
       "      <th>count</th>\n",
       "      <th>day</th>\n",
       "      <th>dayofweek</th>\n",
       "      <th>hour</th>\n",
       "    </tr>\n",
       "  </thead>\n",
       "  <tbody>\n",
       "    <tr>\n",
       "      <th>count</th>\n",
       "      <td>22308.000000</td>\n",
       "      <td>22308.000000</td>\n",
       "      <td>22308.00000</td>\n",
       "      <td>22308.000000</td>\n",
       "      <td>22308.000000</td>\n",
       "    </tr>\n",
       "    <tr>\n",
       "      <th>mean</th>\n",
       "      <td>14.501076</td>\n",
       "      <td>0.139122</td>\n",
       "      <td>16.00139</td>\n",
       "      <td>3.060203</td>\n",
       "      <td>11.503721</td>\n",
       "    </tr>\n",
       "    <tr>\n",
       "      <th>std</th>\n",
       "      <td>8.656086</td>\n",
       "      <td>0.120509</td>\n",
       "      <td>8.94460</td>\n",
       "      <td>2.078309</td>\n",
       "      <td>6.922328</td>\n",
       "    </tr>\n",
       "    <tr>\n",
       "      <th>min</th>\n",
       "      <td>0.000000</td>\n",
       "      <td>0.000908</td>\n",
       "      <td>1.00000</td>\n",
       "      <td>0.000000</td>\n",
       "      <td>0.000000</td>\n",
       "    </tr>\n",
       "    <tr>\n",
       "      <th>25%</th>\n",
       "      <td>7.000000</td>\n",
       "      <td>0.054496</td>\n",
       "      <td>8.00000</td>\n",
       "      <td>1.000000</td>\n",
       "      <td>6.000000</td>\n",
       "    </tr>\n",
       "    <tr>\n",
       "      <th>50%</th>\n",
       "      <td>14.500000</td>\n",
       "      <td>0.110808</td>\n",
       "      <td>16.00000</td>\n",
       "      <td>3.000000</td>\n",
       "      <td>12.000000</td>\n",
       "    </tr>\n",
       "    <tr>\n",
       "      <th>75%</th>\n",
       "      <td>22.000000</td>\n",
       "      <td>0.187103</td>\n",
       "      <td>24.00000</td>\n",
       "      <td>5.000000</td>\n",
       "      <td>18.000000</td>\n",
       "    </tr>\n",
       "    <tr>\n",
       "      <th>max</th>\n",
       "      <td>29.000000</td>\n",
       "      <td>1.000000</td>\n",
       "      <td>31.00000</td>\n",
       "      <td>6.000000</td>\n",
       "      <td>23.000000</td>\n",
       "    </tr>\n",
       "  </tbody>\n",
       "</table>\n",
       "</div>"
      ],
      "text/plain": [
       "       pickup_cluster         count          day     dayofweek          hour\n",
       "count    22308.000000  22308.000000  22308.00000  22308.000000  22308.000000\n",
       "mean        14.501076      0.139122     16.00139      3.060203     11.503721\n",
       "std          8.656086      0.120509      8.94460      2.078309      6.922328\n",
       "min          0.000000      0.000908      1.00000      0.000000      0.000000\n",
       "25%          7.000000      0.054496      8.00000      1.000000      6.000000\n",
       "50%         14.500000      0.110808     16.00000      3.000000     12.000000\n",
       "75%         22.000000      0.187103     24.00000      5.000000     18.000000\n",
       "max         29.000000      1.000000     31.00000      6.000000     23.000000"
      ]
     },
     "execution_count": 31,
     "metadata": {},
     "output_type": "execute_result"
    }
   ],
   "source": [
    "df_z.describe()"
   ]
  },
  {
   "cell_type": "markdown",
   "id": "9af0bacd",
   "metadata": {},
   "source": [
    "## 5.2 Train and Test Data"
   ]
  },
  {
   "cell_type": "code",
   "execution_count": 32,
   "id": "e35fbc4f",
   "metadata": {},
   "outputs": [],
   "source": [
    "feature = df_z[['pickup_cluster', 'day', 'hour', 'dayofweek']]\n",
    "target = df_z['count']"
   ]
  },
  {
   "cell_type": "code",
   "execution_count": 33,
   "id": "c58a32f4",
   "metadata": {},
   "outputs": [],
   "source": [
    "X_train, X_test, y_train, y_test = train_test_split(\n",
    "     feature, target, test_size=0.33, random_state=42)"
   ]
  },
  {
   "cell_type": "markdown",
   "id": "0b9cbdd7",
   "metadata": {},
   "source": [
    "## 5.3 Multicolinearity Check"
   ]
  },
  {
   "cell_type": "code",
   "execution_count": 34,
   "id": "483c129d",
   "metadata": {
    "scrolled": false
   },
   "outputs": [
    {
     "data": {
      "image/png": "[encoded data removed]",
      "text/plain": [
       "<Figure size 720x504 with 2 Axes>"
      ]
     },
     "metadata": {
      "needs_background": "light"
     },
     "output_type": "display_data"
    }
   ],
   "source": [
    "# heatmap correlation\n",
    "traffic_train = pd.concat([X_train, y_train], axis=1)\n",
    "corr = traffic_train.corr()\n",
    "\n",
    "plt.figure(figsize=(10,7))\n",
    "sns.heatmap(corr, cmap=\"YlGnBu\", annot=True, fmt='.2f')\n",
    "plt.show()"
   ]
  },
  {
   "cell_type": "markdown",
   "id": "768b498b",
   "metadata": {},
   "source": [
    "no multicollinearity and strong correlation between features were found"
   ]
  },
  {
   "cell_type": "markdown",
   "id": "65d003a7",
   "metadata": {},
   "source": [
    "# 6. Modeling"
   ]
  },
  {
   "cell_type": "markdown",
   "id": "85995312",
   "metadata": {},
   "source": [
    "## 6.1 Baseline Model"
   ]
  },
  {
   "cell_type": "markdown",
   "id": "f67ff20b",
   "metadata": {},
   "source": [
    "### 6.1.1 Linear Regression"
   ]
  },
  {
   "cell_type": "code",
   "execution_count": 35,
   "id": "b38dc2c8",
   "metadata": {},
   "outputs": [
    {
     "data": {
      "text/plain": [
       "LinearRegression()"
      ]
     },
     "execution_count": 35,
     "metadata": {},
     "output_type": "execute_result"
    }
   ],
   "source": [
    "# define the model\n",
    "simple_reg = LinearRegression()\n",
    "\n",
    "# train the model\n",
    "X_train_model = X_train.to_numpy()\n",
    "y_train_model = y_train.to_numpy()\n",
    "y_train_model = y_train_model.reshape(len(y_train,))\n",
    "\n",
    "simple_reg.fit(X_train_model, y_train_model)"
   ]
  },
  {
   "cell_type": "code",
   "execution_count": 36,
   "id": "e106f2f5",
   "metadata": {},
   "outputs": [
    {
     "name": "stdout",
     "output_type": "stream",
     "text": [
      "R-squared for training data is 0.21546560672455262\n",
      "RMSE for training data is 0.10643523422196627\n"
     ]
    }
   ],
   "source": [
    "#Training Error\n",
    "y_predict_train  = simple_reg.predict(X_train_model)\n",
    "print('R-squared for training data is {}'.format(r2_score(y_train_model, y_predict_train)))\n",
    "print('RMSE for training data is {}'.format(np.sqrt(mean_squared_error(y_train_model, y_predict_train))))"
   ]
  },
  {
   "cell_type": "code",
   "execution_count": 37,
   "id": "0883dda5",
   "metadata": {},
   "outputs": [],
   "source": [
    "#Testing Error\n",
    "X_test_model = X_test.to_numpy()\n",
    "y_predict_test = simple_reg.predict(X_test_model)\n",
    "\n",
    "y_test_model = y_test.to_numpy()\n",
    "y_test_model = y_test_model.reshape(len(y_test_model),)"
   ]
  },
  {
   "cell_type": "code",
   "execution_count": 38,
   "id": "3988b967",
   "metadata": {
    "scrolled": false
   },
   "outputs": [
    {
     "name": "stdout",
     "output_type": "stream",
     "text": [
      "R-squared for training data is 0.22629704309040155\n",
      "RMSE for testing data is 0.10659927491719809\n"
     ]
    }
   ],
   "source": [
    "print('R-squared for training data is {}'.format(r2_score(y_test_model, y_predict_test)))\n",
    "print('RMSE for testing data is {}'.format(np.sqrt(mean_squared_error(y_test_model, y_predict_test))))"
   ]
  },
  {
   "cell_type": "markdown",
   "id": "702eef54",
   "metadata": {},
   "source": [
    "### 6.1.2 Decision Tree Regression"
   ]
  },
  {
   "cell_type": "code",
   "execution_count": 39,
   "id": "091b9d4b",
   "metadata": {},
   "outputs": [
    {
     "data": {
      "text/plain": [
       "DecisionTreeRegressor(random_state=42)"
      ]
     },
     "execution_count": 39,
     "metadata": {},
     "output_type": "execute_result"
    }
   ],
   "source": [
    "dt = DecisionTreeRegressor(random_state=42)\n",
    "# train the model\n",
    "X_train_model_dt = X_train.to_numpy()\n",
    "y_train_model_dt= y_train.to_numpy()\n",
    "y_train_model_dt = y_train_model_dt.reshape(len(y_train))\n",
    "\n",
    "dt.fit(X_train_model_dt, y_train_model_dt)"
   ]
  },
  {
   "cell_type": "code",
   "execution_count": 40,
   "id": "7eb24d46",
   "metadata": {},
   "outputs": [
    {
     "name": "stdout",
     "output_type": "stream",
     "text": [
      "R-squared for training data is 1.0\n",
      "RMSE for training data is 0.0\n"
     ]
    }
   ],
   "source": [
    "#Training Error\n",
    "y_predict_train_dt  = dt.predict(X_train_model_dt)\n",
    "print('R-squared for training data is {}'.format(r2_score(y_train_model_dt, y_predict_train_dt)))\n",
    "print('RMSE for training data is {}'.format(np.sqrt(mean_squared_error(y_train_model_dt, y_predict_train_dt))))"
   ]
  },
  {
   "cell_type": "code",
   "execution_count": 41,
   "id": "3e0c1e6a",
   "metadata": {},
   "outputs": [],
   "source": [
    "#Testing Error\n",
    "X_test_model_dt = X_test.to_numpy()\n",
    "y_predict_test_dt = dt.predict(X_test_model_dt)\n",
    "\n",
    "y_test_model_dt = y_test.to_numpy()\n",
    "y_test_model_dt = y_test_model_dt.reshape(len(y_test_model_dt))"
   ]
  },
  {
   "cell_type": "code",
   "execution_count": 42,
   "id": "d3f2f6c7",
   "metadata": {},
   "outputs": [
    {
     "name": "stdout",
     "output_type": "stream",
     "text": [
      "R-squared for training data is 0.960495770559213\n",
      "RMSE for testing data is 0.02408734426795828\n"
     ]
    }
   ],
   "source": [
    "print('R-squared for training data is {}'.format(r2_score(y_test_model_dt, y_predict_test_dt)))\n",
    "print('RMSE for testing data is {}'.format(np.sqrt(mean_squared_error(y_test_model_dt, y_predict_test_dt))))"
   ]
  },
  {
   "cell_type": "markdown",
   "id": "7744dd15",
   "metadata": {},
   "source": [
    "### 6.1.3 Random Forest Regression"
   ]
  },
  {
   "cell_type": "code",
   "execution_count": 43,
   "id": "03a15098",
   "metadata": {},
   "outputs": [
    {
     "data": {
      "text/plain": [
       "RandomForestRegressor(random_state=42)"
      ]
     },
     "execution_count": 43,
     "metadata": {},
     "output_type": "execute_result"
    }
   ],
   "source": [
    "rf = RandomForestRegressor(random_state=42)\n",
    "# train the model\n",
    "X_train_model_rf = X_train.to_numpy()\n",
    "y_train_model_rf = y_train.to_numpy()\n",
    "y_train_model_rf = y_train_model_rf.reshape(len(y_train,))\n",
    "\n",
    "rf.fit(X_train_model_rf, y_train_model_rf)"
   ]
  },
  {
   "cell_type": "code",
   "execution_count": 44,
   "id": "e047d22e",
   "metadata": {},
   "outputs": [
    {
     "name": "stdout",
     "output_type": "stream",
     "text": [
      "R-squared for training data is 0.9966342714641772\n",
      "RMSE for training data is 0.0069713834154496055\n"
     ]
    }
   ],
   "source": [
    "#Training Error\n",
    "y_predict_train_rf  = rf.predict(X_train_model_rf)\n",
    "print('R-squared for training data is {}'.format(r2_score(y_train_model_rf, y_predict_train_rf)))\n",
    "print('RMSE for training data is {}'.format(np.sqrt(mean_squared_error(y_train_model_rf, y_predict_train_rf))))"
   ]
  },
  {
   "cell_type": "code",
   "execution_count": 45,
   "id": "e907cc56",
   "metadata": {},
   "outputs": [],
   "source": [
    "#Testing Error\n",
    "X_test_model_rf = X_test.to_numpy()\n",
    "y_predict_test_rf = rf.predict(X_test_model_rf)\n",
    "\n",
    "y_test_model_rf = y_test.to_numpy()\n",
    "y_test_model_rf = y_test_model_rf.reshape(len(y_test_model_rf))"
   ]
  },
  {
   "cell_type": "code",
   "execution_count": 46,
   "id": "d5a00af5",
   "metadata": {
    "scrolled": false
   },
   "outputs": [
    {
     "name": "stdout",
     "output_type": "stream",
     "text": [
      "R-squared for training data is 0.9749981978098072\n",
      "RMSE for testing data is 0.019162526997759746\n"
     ]
    }
   ],
   "source": [
    "print('R-squared for training data is {}'.format(r2_score(y_test_model_rf, y_predict_test_rf)))\n",
    "print('RMSE for testing data is {}'.format(np.sqrt(mean_squared_error(y_test_model_rf, y_predict_test_rf))))"
   ]
  },
  {
   "cell_type": "markdown",
   "id": "12d970e0",
   "metadata": {},
   "source": [
    "### 6.1.4 Result"
   ]
  },
  {
   "cell_type": "code",
   "execution_count": 47,
   "id": "45c3bafb",
   "metadata": {
    "scrolled": false
   },
   "outputs": [
    {
     "data": {
      "text/html": [
       "<div>\n",
       "<style scoped>\n",
       "    .dataframe tbody tr th:only-of-type {\n",
       "        vertical-align: middle;\n",
       "    }\n",
       "\n",
       "    .dataframe tbody tr th {\n",
       "        vertical-align: top;\n",
       "    }\n",
       "\n",
       "    .dataframe thead th {\n",
       "        text-align: right;\n",
       "    }\n",
       "</style>\n",
       "<table border=\"1\" class=\"dataframe\">\n",
       "  <thead>\n",
       "    <tr style=\"text-align: right;\">\n",
       "      <th></th>\n",
       "      <th>RMSE Score</th>\n",
       "    </tr>\n",
       "  </thead>\n",
       "  <tbody>\n",
       "    <tr>\n",
       "      <th>Random Forest Regression</th>\n",
       "      <td>0.019163</td>\n",
       "    </tr>\n",
       "    <tr>\n",
       "      <th>Decision Tree Regression</th>\n",
       "      <td>0.024087</td>\n",
       "    </tr>\n",
       "    <tr>\n",
       "      <th>Linear Regression</th>\n",
       "      <td>0.106599</td>\n",
       "    </tr>\n",
       "  </tbody>\n",
       "</table>\n",
       "</div>"
      ],
      "text/plain": [
       "                          RMSE Score\n",
       "Random Forest Regression    0.019163\n",
       "Decision Tree Regression    0.024087\n",
       "Linear Regression           0.106599"
      ]
     },
     "execution_count": 47,
     "metadata": {},
     "output_type": "execute_result"
    }
   ],
   "source": [
    "results={}\n",
    "results[\"Linear Regression\"]=np.sqrt(mean_squared_error(y_test_model, y_predict_test))\n",
    "results[\"Decision Tree Regression\"]= np.sqrt(mean_squared_error(y_test_model_dt, y_predict_test_dt))\n",
    "results[\"Random Forest Regression\"]= np.sqrt(mean_squared_error(y_test_model_rf, y_predict_test_rf))\n",
    "results = pd.DataFrame.from_dict(results,orient='index')\n",
    "results.columns=[\"RMSE Score\"] \n",
    "results.sort_values(['RMSE Score'], ascending=True)"
   ]
  },
  {
   "cell_type": "markdown",
   "id": "26ba401f",
   "metadata": {},
   "source": [
    "The Random Forest Regression model will be used to predict demand pick up because it has the smallest RMSE Score, but improvements need to be made with parameter tuning to get maximum results"
   ]
  },
  {
   "cell_type": "markdown",
   "id": "8c801a27",
   "metadata": {},
   "source": [
    "## 6.2 Improvement Model"
   ]
  },
  {
   "cell_type": "code",
   "execution_count": 48,
   "id": "cb3cc3ab",
   "metadata": {},
   "outputs": [
    {
     "name": "stdout",
     "output_type": "stream",
     "text": [
      "CPU times: total: 6min 30s\n",
      "Wall time: 6min 36s\n"
     ]
    },
    {
     "data": {
      "text/plain": [
       "GridSearchCV(cv=3, estimator=RandomForestRegressor(random_state=42),\n",
       "             param_grid={'max_depth': (1, 2, 3, None),\n",
       "                         'min_samples_leaf': [1, 2, 4],\n",
       "                         'min_samples_split': [2, 4, 6],\n",
       "                         'n_estimators': (50, 100, 500)},\n",
       "             scoring='neg_root_mean_squared_error')"
      ]
     },
     "execution_count": 48,
     "metadata": {},
     "output_type": "execute_result"
    }
   ],
   "source": [
    "%%time\n",
    "# Random Forest Model Improvement\n",
    "# hyperparameter tuning\n",
    "df_improvement_rf = RandomForestRegressor(random_state=42)\n",
    "parameters = {\n",
    "    'n_estimators': (50,100,500),\n",
    "    'min_samples_leaf': [1, 2, 4],\n",
    "    'min_samples_split': [2, 4, 6],\n",
    "    'max_depth':(1,2,3,None)\n",
    "}\n",
    "         \n",
    "rf_clf_gridcv = GridSearchCV(df_improvement_rf, parameters, cv=3, scoring='neg_root_mean_squared_error')\n",
    "rf_clf_gridcv.fit(X_train_model_rf, y_train_model_rf)"
   ]
  },
  {
   "cell_type": "code",
   "execution_count": 49,
   "id": "7803994c",
   "metadata": {
    "scrolled": true
   },
   "outputs": [
    {
     "data": {
      "text/plain": [
       "{'max_depth': None,\n",
       " 'min_samples_leaf': 1,\n",
       " 'min_samples_split': 2,\n",
       " 'n_estimators': 500}"
      ]
     },
     "execution_count": 49,
     "metadata": {},
     "output_type": "execute_result"
    }
   ],
   "source": [
    "# The best parameter of Random Forest Regression\n",
    "rf_clf_gridcv.best_params_"
   ]
  },
  {
   "cell_type": "code",
   "execution_count": 50,
   "id": "c64bdae8",
   "metadata": {},
   "outputs": [
    {
     "name": "stdout",
     "output_type": "stream",
     "text": [
      "R-squared for improvement model is 0.9753769224537405\n",
      "RMSE for improvement model is 0.01901683720727654\n"
     ]
    }
   ],
   "source": [
    "y_pred_df_improvement_rf = rf_clf_gridcv.best_estimator_.predict(X_test_model_rf)\n",
    "print('R-squared for improvement model is {}'.format(r2_score(y_test_model_rf, y_pred_df_improvement_rf)))\n",
    "print('RMSE for improvement model is {}'.format(np.sqrt(mean_squared_error(y_test_model_rf, y_pred_df_improvement_rf))))"
   ]
  },
  {
   "cell_type": "markdown",
   "id": "b6b441c0",
   "metadata": {},
   "source": [
    "## 6.3 Conclusion"
   ]
  },
  {
   "cell_type": "code",
   "execution_count": 51,
   "id": "45ed017a",
   "metadata": {
    "scrolled": false
   },
   "outputs": [
    {
     "data": {
      "text/html": [
       "<div>\n",
       "<style scoped>\n",
       "    .dataframe tbody tr th:only-of-type {\n",
       "        vertical-align: middle;\n",
       "    }\n",
       "\n",
       "    .dataframe tbody tr th {\n",
       "        vertical-align: top;\n",
       "    }\n",
       "\n",
       "    .dataframe thead th {\n",
       "        text-align: right;\n",
       "    }\n",
       "</style>\n",
       "<table border=\"1\" class=\"dataframe\">\n",
       "  <thead>\n",
       "    <tr style=\"text-align: right;\">\n",
       "      <th></th>\n",
       "      <th>RMSE Score</th>\n",
       "    </tr>\n",
       "  </thead>\n",
       "  <tbody>\n",
       "    <tr>\n",
       "      <th>Random Forest Regression Improvement</th>\n",
       "      <td>0.019017</td>\n",
       "    </tr>\n",
       "    <tr>\n",
       "      <th>Random Forest Regression</th>\n",
       "      <td>0.019163</td>\n",
       "    </tr>\n",
       "    <tr>\n",
       "      <th>Decision Tree Regression</th>\n",
       "      <td>0.024087</td>\n",
       "    </tr>\n",
       "    <tr>\n",
       "      <th>Linear Regression</th>\n",
       "      <td>0.106599</td>\n",
       "    </tr>\n",
       "  </tbody>\n",
       "</table>\n",
       "</div>"
      ],
      "text/plain": [
       "                                      RMSE Score\n",
       "Random Forest Regression Improvement    0.019017\n",
       "Random Forest Regression                0.019163\n",
       "Decision Tree Regression                0.024087\n",
       "Linear Regression                       0.106599"
      ]
     },
     "execution_count": 51,
     "metadata": {},
     "output_type": "execute_result"
    }
   ],
   "source": [
    "results={}\n",
    "results[\"Linear Regression\"]=np.sqrt(mean_squared_error(y_test_model, y_predict_test))\n",
    "results[\"Decision Tree Regression\"]= np.sqrt(mean_squared_error(y_test_model_dt, y_predict_test_dt))\n",
    "results[\"Random Forest Regression\"]= np.sqrt(mean_squared_error(y_test_model_rf, y_predict_test_rf))\n",
    "results[\"Random Forest Regression Improvement\"]= np.sqrt(mean_squared_error(y_test_model_rf, y_pred_df_improvement_rf))\n",
    "results = pd.DataFrame.from_dict(results,orient='index')\n",
    "results.columns=[\"RMSE Score\"] \n",
    "results.sort_values(['RMSE Score'], ascending=True)"
   ]
  },
  {
   "cell_type": "markdown",
   "id": "5a603391",
   "metadata": {},
   "source": [
    "The Random Forest Regression Improvement model will be used to predict pick-up demand because it has the smallest RMSE Score"
   ]
  },
  {
   "cell_type": "markdown",
   "id": "24440378",
   "metadata": {},
   "source": [
    "# 6.5 Feature Importance"
   ]
  },
  {
   "cell_type": "code",
   "execution_count": 52,
   "id": "50523cbb",
   "metadata": {
    "scrolled": false
   },
   "outputs": [
    {
     "name": "stdout",
     "output_type": "stream",
     "text": [
      "         Variable  Importance\n",
      "0  pickup_cluster   54.823503\n",
      "2            hour   36.848197\n",
      "3       dayofweek    6.691280\n",
      "1             day    1.637021\n"
     ]
    },
    {
     "data": {
      "image/png": "[encoded data removed]",
      "text/plain": [
       "<Figure size 1296x504 with 1 Axes>"
      ]
     },
     "metadata": {
      "needs_background": "light"
     },
     "output_type": "display_data"
    }
   ],
   "source": [
    "feature_importance = pd.DataFrame({'Variable':X_train.columns,\n",
    "                      'Importance':rf_clf_gridcv.best_estimator_.feature_importances_*100}).sort_values('Importance', ascending=False)\n",
    "fig, ax = plt.subplots(figsize=(18,7))\n",
    "ax.bar(feature_importance['Variable'], feature_importance['Importance'])\n",
    "plt.xticks(rotation=45, ha='right')\n",
    "ax.set_title('Feature Importance of Credit Default Prediction', fontsize=15, fontweight='bold')\n",
    "plt.show\n",
    "print(feature_importance)"
   ]
  },
  {
   "cell_type": "markdown",
   "id": "616eb8b3",
   "metadata": {},
   "source": [
    "91% of the most important features that influence demand prediction are influenced by the pick_up cluster and hour features"
   ]
  },
  {
   "cell_type": "markdown",
   "id": "b28ddce1",
   "metadata": {},
   "source": [
    "# 7. Recommendation"
   ]
  },
  {
   "cell_type": "markdown",
   "id": "6d479c7a",
   "metadata": {},
   "source": [
    "1. \tBy using the Random Forest Regression model, TLC can focus on cluster pick_up data and hours to determine the number of units to deploy by adjusting the predicted demand results, so TLC can reduce demand and supply imbalances more measurably.\n",
    "2. \tCreate a route rotation policy for drivers so that units are not spread over certain locations.\n",
    "3. \tMake a balanced policy for drivers based on the number of trips and mileage.\n"
   ]
  }
 ],
 "metadata": {
  "kernelspec": {
   "display_name": "Python 3 (ipykernel)",
   "language": "python",
   "name": "python3"
  },
  "language_info": {
   "codemirror_mode": {
    "name": "ipython",
    "version": 3
   },
   "file_extension": ".py",
   "mimetype": "text/x-python",
   "name": "python",
   "nbconvert_exporter": "python",
   "pygments_lexer": "ipython3",
   "version": "3.9.12"
  }
 },
 "nbformat": 4,
 "nbformat_minor": 5
}
